{
 "cells": [
  {
   "cell_type": "code",
   "execution_count": 7,
   "id": "c98dcefa-f657-4669-bd17-4a7e99a6fd8f",
   "metadata": {},
   "outputs": [],
   "source": [
    "from onem2mlib import *\n",
    "import onem2mlib.notifications as NOT\n",
    "import onem2mlib.constants as CON"
   ]
  },
  {
   "cell_type": "code",
   "execution_count": 8,
   "id": "a92e68f3-095b-47c6-8aa3-43505fba2ba2",
   "metadata": {},
   "outputs": [],
   "source": [
    "session = Session('http://esw-onem2m.iiit.ac.in:443', 'rTI9uxe@NN:7rn5sOIaYf')"
   ]
  },
  {
   "cell_type": "code",
   "execution_count": 9,
   "id": "b917ee7a-5f7a-424e-b1bc-12fc28cecbc3",
   "metadata": {},
   "outputs": [],
   "source": [
    "cse = CSEBase(session, 'in-cse', resourceName='in-name', instantly=False)"
   ]
  },
  {
   "cell_type": "code",
   "execution_count": 10,
   "id": "3cee0b50-f4e0-41f6-9546-c5a11cd5841e",
   "metadata": {},
   "outputs": [],
   "source": [
    "ae = AE(cse, resourceName='Team-9')"
   ]
  },
  {
   "cell_type": "code",
   "execution_count": 11,
   "id": "341bebf0-eff4-4645-8339-e12126daa145",
   "metadata": {},
   "outputs": [],
   "source": [
    "containers = ae.containers()"
   ]
  },
  {
   "cell_type": "code",
   "execution_count": 12,
   "id": "04abe7eb-f7d5-4a03-9778-35338f456c69",
   "metadata": {},
   "outputs": [
    {
     "data": {
      "text/plain": [
       "3"
      ]
     },
     "execution_count": 12,
     "metadata": {},
     "output_type": "execute_result"
    }
   ],
   "source": [
    "len(containers)"
   ]
  },
  {
   "cell_type": "code",
   "execution_count": 15,
   "id": "8f443dcd-fe0b-4848-8fb7-0c54778e7d99",
   "metadata": {},
   "outputs": [],
   "source": [
    "pir = [ c for c in containers if c.resourceName==\"pir\"][0]"
   ]
  },
  {
   "cell_type": "code",
   "execution_count": 16,
   "id": "6a894cc4-5baf-4db6-942b-169254fe3068",
   "metadata": {},
   "outputs": [
    {
     "data": {
      "text/plain": [
       "<onem2mlib.Container at 0x7fbcceed4c40>"
      ]
     },
     "execution_count": 16,
     "metadata": {},
     "output_type": "execute_result"
    }
   ],
   "source": [
    "pir"
   ]
  },
  {
   "cell_type": "code",
   "execution_count": null,
   "id": "586dd6a0-1f20-48e5-9085-e52bd19c356b",
   "metadata": {},
   "outputs": [],
   "source": []
  }
 ],
 "metadata": {
  "kernelspec": {
   "display_name": "Python 3 (ipykernel)",
   "language": "python",
   "name": "python3"
  },
  "language_info": {
   "codemirror_mode": {
    "name": "ipython",
    "version": 3
   },
   "file_extension": ".py",
   "mimetype": "text/x-python",
   "name": "python",
   "nbconvert_exporter": "python",
   "pygments_lexer": "ipython3",
   "version": "3.8.11"
  }
 },
 "nbformat": 4,
 "nbformat_minor": 5
}
