{
 "cells": [
  {
   "cell_type": "code",
   "execution_count": 1,
   "id": "57b4d236-2923-4db7-b09e-7f46b3c8e32a",
   "metadata": {},
   "outputs": [],
   "source": [
    "import numpy as np"
   ]
  },
  {
   "cell_type": "code",
   "execution_count": 3,
   "id": "c4313531-d572-4479-8a3b-6f74b48e0529",
   "metadata": {},
   "outputs": [],
   "source": [
    "def parse(content):\n",
    "    _id , f1 , f2, f3 , a , time , p = content.split(\",\")\n",
    "    a = list(a)\n",
    "    p = int(p)\n",
    "    a = [int(i) for i in a]\n",
    "    a = np.array(a)\n",
    "    a = np.reshape(a,(8,8))\n",
    "    print(_id)\n",
    "    print(f1)\n",
    "    print(f2)\n",
    "    print(f3)\n",
    "    print(a)\n",
    "    print(time)\n",
    "    print(p)\n",
    "    "
   ]
  },
  {
   "cell_type": "code",
   "execution_count": 4,
   "id": "527b8d4f-5f6b-458d-8f69-406fc3adf7a0",
   "metadata": {},
   "outputs": [
    {
     "name": "stdout",
     "output_type": "stream",
     "text": [
      "10000006\n",
      "21\n",
      "2\n",
      "12\n",
      "[[0 0 0 0 0 0 0 0]\n",
      " [0 0 0 0 0 0 0 0]\n",
      " [0 0 1 1 0 0 0 0]\n",
      " [1 1 1 1 0 0 0 1]\n",
      " [1 1 1 1 0 0 0 1]\n",
      " [1 0 1 0 0 0 1 1]\n",
      " [0 0 0 0 0 1 1 1]\n",
      " [0 0 0 0 0 0 1 1]]\n",
      "10-12-20-51-7\n",
      "1\n"
     ]
    }
   ],
   "source": [
    "parse(\"10000006,21,2,12,0000000000000000001100001111000111110001101000110000011100000011,10-12-20-51-7,1\")"
   ]
  },
  {
   "cell_type": "code",
   "execution_count": null,
   "id": "feeb85c6-d02d-4e77-8d4a-88596c8f688e",
   "metadata": {},
   "outputs": [],
   "source": []
  }
 ],
 "metadata": {
  "kernelspec": {
   "display_name": "Python 3 (ipykernel)",
   "language": "python",
   "name": "python3"
  },
  "language_info": {
   "codemirror_mode": {
    "name": "ipython",
    "version": 3
   },
   "file_extension": ".py",
   "mimetype": "text/x-python",
   "name": "python",
   "nbconvert_exporter": "python",
   "pygments_lexer": "ipython3",
   "version": "3.8.11"
  }
 },
 "nbformat": 4,
 "nbformat_minor": 5
}
