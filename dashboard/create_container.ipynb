{
 "cells": [
  {
   "cell_type": "code",
   "execution_count": 55,
   "id": "5cc6d35e-f454-4dd5-a281-9859bb8ddcbd",
   "metadata": {},
   "outputs": [],
   "source": [
    "from onem2mlib import *\n",
    "import onem2mlib.notifications as NOT\n",
    "import onem2mlib.constants as CON\n",
    "from datetime import datetime"
   ]
  },
  {
   "cell_type": "code",
   "execution_count": 56,
   "id": "c075d480-9843-4c0c-b0e2-e4226ab8b474",
   "metadata": {},
   "outputs": [],
   "source": [
    "session = Session('http://esw-onem2m.iiit.ac.in:443', 'rTI9uxe@NN:7rn5sOIaYf')"
   ]
  },
  {
   "cell_type": "code",
   "execution_count": 57,
   "id": "711b04bb-3eb0-4c66-9556-5a739b72d1a3",
   "metadata": {},
   "outputs": [],
   "source": [
    "cse = CSEBase(session, 'in-cse', resourceName='in-name', instantly=False)"
   ]
  },
  {
   "cell_type": "code",
   "execution_count": 58,
   "id": "7640bd92-42b4-49e0-9fc6-87928531eecf",
   "metadata": {},
   "outputs": [],
   "source": [
    "ae = AE(cse, resourceName='Team-9')"
   ]
  },
  {
   "cell_type": "code",
   "execution_count": 59,
   "id": "5b382c6a-524e-45a8-a4c5-242a4a674eeb",
   "metadata": {},
   "outputs": [],
   "source": [
    "container = Container(ae, resourceName='testing_arjun_2',maxNrOfInstances=25)"
   ]
  },
  {
   "cell_type": "code",
   "execution_count": 60,
   "id": "4c1c2514-b731-4c46-9e44-08711550563a",
   "metadata": {},
   "outputs": [
    {
     "data": {
      "text/plain": [
       "False"
      ]
     },
     "execution_count": 60,
     "metadata": {},
     "output_type": "execute_result"
    }
   ],
   "source": [
    "container.updateInCSE()"
   ]
  },
  {
   "cell_type": "code",
   "execution_count": 64,
   "id": "bce95d77-55da-4860-b770-5fbb4bd45b9c",
   "metadata": {},
   "outputs": [
    {
     "data": {
      "text/plain": [
       "<onem2mlib.ContentInstance at 0x7f982c3fc5e0>"
      ]
     },
     "execution_count": 64,
     "metadata": {},
     "output_type": "execute_result"
    }
   ],
   "source": [
    "container.addContent(f\"11100006,21,2,12,1100000000000000001100001111000111110001101000110000011100000011,{datetime.now()},0\")"
   ]
  },
  {
   "cell_type": "code",
   "execution_count": 18,
   "id": "d5cf109c-bf9e-4d7b-85c9-93a0f87a2b82",
   "metadata": {},
   "outputs": [
    {
     "data": {
      "text/plain": [
       "False"
      ]
     },
     "execution_count": 18,
     "metadata": {},
     "output_type": "execute_result"
    }
   ],
   "source": [
    "container.updateInCSE()"
   ]
  },
  {
   "cell_type": "code",
   "execution_count": 25,
   "id": "46fb373d-77d5-47d2-9f82-9db5cc804850",
   "metadata": {},
   "outputs": [],
   "source": [
    "test = eval(\"{'m2m:cnt': {'rn': 'testing_arjun_1', 'ty': 3, 'ri': '/in-cse/cnt-191986786', 'pi': '/in-cse/CAE291430963', 'ct': '20211112T230951', 'lt': '20211112T230951', 'acpi': ['/in-cse/acp-516227225', '/in-cse/acp-648169147'], 'et': '20221112T230951', 'st': 1, 'mni': 25, 'mbs': 10000, 'mia': 0, 'cni': 1, 'cbs': 110, 'm2m:cin': [{'rn': 'cin_826657357', 'ty': 4, 'ri': '/in-cse/cin-826657357', 'pi': '/in-cse/cnt-191986786', 'ct': '20211112T233040', 'lt': '20211112T233040', 'st': 0, 'cnf': 'text/plain:0', 'cs': 110, 'con': '10000006,21,2,12,0000000000000000001100001111000111110001101000110000011100000011,2021-11-12 23:30:40.170556,1'}], 'm2m:sub': [{'rn': '9d011284-c299-4ab3-865f-a6c6f9752d50', 'ty': 23, 'ri': '/in-cse/sub-416782631', 'pi': '/in-cse/cnt-191986786', 'ct': '20211112T231405', 'lt': '20211112T231405', 'acpi': ['/in-cse/acp-516227225', '/in-cse/acp-648169147'], 'nu': ['http://10.11.0.26:1400/'], 'nct': 1}], 'ol': '/in-cse/in-name/Team-9/testing_arjun_1/ol', 'la': '/in-cse/in-name/Team-9/testing_arjun_1/la'}}\")"
   ]
  },
  {
   "cell_type": "code",
   "execution_count": 22,
   "id": "e1d6132f-13e7-400a-a813-9ba70d78c8fb",
   "metadata": {},
   "outputs": [
    {
     "data": {
      "text/plain": [
       "[{'rn': 'cin_826657357',\n",
       "  'ty': 4,\n",
       "  'ri': '/in-cse/cin-826657357',\n",
       "  'pi': '/in-cse/cnt-191986786',\n",
       "  'ct': '20211112T233040',\n",
       "  'lt': '20211112T233040',\n",
       "  'st': 0,\n",
       "  'cnf': 'text/plain:0',\n",
       "  'cs': 110,\n",
       "  'con': '10000006,21,2,12,0000000000000000001100001111000111110001101000110000011100000011,2021-11-12 23:30:40.170556,1'}]"
      ]
     },
     "execution_count": 22,
     "metadata": {},
     "output_type": "execute_result"
    }
   ],
   "source": [
    "test['m2m:cnt']['m2m:cin']"
   ]
  },
  {
   "cell_type": "code",
   "execution_count": 35,
   "id": "5ac33847-55f8-4a98-bf9a-228997267563",
   "metadata": {},
   "outputs": [
    {
     "data": {
      "text/plain": [
       "'11000006,21,2,12,0111110000000000001100001111000111110001101000110000011100000011,2021-11-13 00:13:32.479552,0'"
      ]
     },
     "execution_count": 35,
     "metadata": {},
     "output_type": "execute_result"
    }
   ],
   "source": [
    "container.latestContent()"
   ]
  },
  {
   "cell_type": "code",
   "execution_count": 47,
   "id": "b8abc32f-d935-420f-a158-868e817b90c4",
   "metadata": {},
   "outputs": [],
   "source": [
    "import requests\n",
    "import json\n",
    "CONTAINER=\"testing_arjun_1\"\n",
    "def get_latest_a():\n",
    "    headers = {\n",
    "        'X-M2M-Origin': 'rTI9uxe@NN:7rn5sOIaYf',\n",
    "        'Content-type': 'application/json'\n",
    "    }\n",
    "\n",
    "    response = requests.get(\n",
    "        f\"http://esw-onem2m.iiit.ac.in:443/~/in-cse/in-name/Team-9/{CONTAINER}/la\", headers=headers)\n",
    "    _resp = json.loads(response.text)\n",
    "    return _resp[\"m2m:cin\"][c\"con]"
   ]
  },
  {
   "cell_type": "code",
   "execution_count": 48,
   "id": "741810c6-3fa6-4f85-ba2b-21ca238afd52",
   "metadata": {},
   "outputs": [
    {
     "data": {
      "text/plain": [
       "'11000006,21,2,12,0111110000000000001100001111000111110001101000110000011100000011,2021-11-13 00:13:32.479552,0'"
      ]
     },
     "execution_count": 50,
     "metadata": {},
     "output_type": "execute_result"
    }
   ],
   "source": [
    "get_latest_a()"
   ]
  },
  {
   "cell_type": "code",
   "execution_count": null,
   "id": "9734b263-55ca-4bd5-9c4a-3adabcedc24c",
   "metadata": {},
   "outputs": [],
   "source": []
  }
 ],
 "metadata": {
  "kernelspec": {
   "display_name": "Python 3 (ipykernel)",
   "language": "python",
   "name": "python3"
  },
  "language_info": {
   "codemirror_mode": {
    "name": "ipython",
    "version": 3
   },
   "file_extension": ".py",
   "mimetype": "text/x-python",
   "name": "python",
   "nbconvert_exporter": "python",
   "pygments_lexer": "ipython3",
   "version": "3.8.11"
  }
 },
 "nbformat": 4,
 "nbformat_minor": 5
}
