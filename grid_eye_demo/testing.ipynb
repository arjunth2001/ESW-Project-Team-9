{
 "cells": [
  {
   "cell_type": "code",
   "execution_count": 1,
   "id": "c98dcefa-f657-4669-bd17-4a7e99a6fd8f",
   "metadata": {},
   "outputs": [],
   "source": [
    "from onem2mlib import *\n",
    "import onem2mlib.notifications as NOT\n",
    "import onem2mlib.constants as CON"
   ]
  },
  {
   "cell_type": "code",
   "execution_count": 2,
   "id": "a92e68f3-095b-47c6-8aa3-43505fba2ba2",
   "metadata": {},
   "outputs": [],
   "source": [
    "session = Session('http://0.0.0.0:8080/', 'Cae-admin')"
   ]
  },
  {
   "cell_type": "code",
   "execution_count": 3,
   "id": "b917ee7a-5f7a-424e-b1bc-12fc28cecbc3",
   "metadata": {},
   "outputs": [],
   "source": [
    "cse = CSEBase(session, 'server')"
   ]
  },
  {
   "cell_type": "code",
   "execution_count": 4,
   "id": "3cee0b50-f4e0-41f6-9546-c5a11cd5841e",
   "metadata": {},
   "outputs": [],
   "source": [
    "ae = AE(cse, resourceName='nirmal')"
   ]
  },
  {
   "cell_type": "code",
   "execution_count": 5,
   "id": "04abe7eb-f7d5-4a03-9778-35338f456c69",
   "metadata": {},
   "outputs": [],
   "source": [
    "grid_eye = ae.containers()[0]"
   ]
  },
  {
   "cell_type": "code",
   "execution_count": 6,
   "id": "5733d4b6-8cab-4d4b-86b8-65cb92387274",
   "metadata": {},
   "outputs": [],
   "source": [
    "latest = grid_eye.latestContent()"
   ]
  },
  {
   "cell_type": "code",
   "execution_count": 7,
   "id": "d645395c-57ff-48ee-b84f-c02848b6d542",
   "metadata": {},
   "outputs": [
    {
     "data": {
      "text/plain": [
       "'100114,8,3,4,10-11-13-7-56'"
      ]
     },
     "execution_count": 7,
     "metadata": {},
     "output_type": "execute_result"
    }
   ],
   "source": [
    "latest"
   ]
  },
  {
   "cell_type": "code",
   "execution_count": 8,
   "id": "89d03e5b",
   "metadata": {},
   "outputs": [],
   "source": [
    "from IPython.display import display\n",
    "import pandas as pd"
   ]
  },
  {
   "cell_type": "code",
   "execution_count": null,
   "id": "e5a94f59",
   "metadata": {},
   "outputs": [],
   "source": [
    "# Creating empty dataframe\n",
    "# RUN only if you want to recreate dataset\n",
    "dict = {\n",
    "    \"unique_id\": [],\n",
    "    \"feature_1\": [],\n",
    "    \"feature_2\": [],\n",
    "    \"feature_3\": [],\n",
    "    \"time_stamp\": []\n",
    "}\n",
    "df = pd.DataFrame(dict)\n",
    "display(df)\n",
    "df.to_csv('dataset.csv')"
   ]
  },
  {
   "cell_type": "code",
   "execution_count": 9,
   "id": "89ac7d42",
   "metadata": {},
   "outputs": [],
   "source": [
    "dataset_list = []"
   ]
  },
  {
   "cell_type": "code",
   "execution_count": 17,
   "id": "f75be0ac",
   "metadata": {},
   "outputs": [
    {
     "name": "stdout",
     "output_type": "stream",
     "text": [
      "[{'unique_id': '100000', 'feature_1': '0', 'feature_2': '0', 'feature_3': '0', 'time_stamp': '10-11-13-11-28'}, {'unique_id': '100001', 'feature_1': '0', 'feature_2': '0', 'feature_3': '0', 'time_stamp': '10-11-13-11-43'}, {'unique_id': '100002', 'feature_1': '0', 'feature_2': '0', 'feature_3': '0', 'time_stamp': '10-11-13-11-58'}, {'unique_id': '100003', 'feature_1': '0', 'feature_2': '0', 'feature_3': '0', 'time_stamp': '10-11-13-12-13'}, {'unique_id': '100004', 'feature_1': '0', 'feature_2': '0', 'feature_3': '0', 'time_stamp': '10-11-13-12-29'}]\n"
     ]
    }
   ],
   "source": [
    "print(dataset_list)"
   ]
  },
  {
   "cell_type": "code",
   "execution_count": 20,
   "id": "5444f3b3",
   "metadata": {},
   "outputs": [
    {
     "data": {
      "text/html": [
       "<div>\n",
       "<style scoped>\n",
       "    .dataframe tbody tr th:only-of-type {\n",
       "        vertical-align: middle;\n",
       "    }\n",
       "\n",
       "    .dataframe tbody tr th {\n",
       "        vertical-align: top;\n",
       "    }\n",
       "\n",
       "    .dataframe thead th {\n",
       "        text-align: right;\n",
       "    }\n",
       "</style>\n",
       "<table border=\"1\" class=\"dataframe\">\n",
       "  <thead>\n",
       "    <tr style=\"text-align: right;\">\n",
       "      <th></th>\n",
       "      <th>unique_id</th>\n",
       "      <th>feature_1</th>\n",
       "      <th>feature_2</th>\n",
       "      <th>feature_3</th>\n",
       "      <th>time_stamp</th>\n",
       "    </tr>\n",
       "  </thead>\n",
       "  <tbody>\n",
       "    <tr>\n",
       "      <th>0</th>\n",
       "      <td>100000</td>\n",
       "      <td>0</td>\n",
       "      <td>0</td>\n",
       "      <td>0</td>\n",
       "      <td>10-11-13-11-28</td>\n",
       "    </tr>\n",
       "    <tr>\n",
       "      <th>1</th>\n",
       "      <td>100001</td>\n",
       "      <td>0</td>\n",
       "      <td>0</td>\n",
       "      <td>0</td>\n",
       "      <td>10-11-13-11-43</td>\n",
       "    </tr>\n",
       "    <tr>\n",
       "      <th>2</th>\n",
       "      <td>100002</td>\n",
       "      <td>0</td>\n",
       "      <td>0</td>\n",
       "      <td>0</td>\n",
       "      <td>10-11-13-11-58</td>\n",
       "    </tr>\n",
       "    <tr>\n",
       "      <th>3</th>\n",
       "      <td>100003</td>\n",
       "      <td>0</td>\n",
       "      <td>0</td>\n",
       "      <td>0</td>\n",
       "      <td>10-11-13-12-13</td>\n",
       "    </tr>\n",
       "    <tr>\n",
       "      <th>4</th>\n",
       "      <td>100004</td>\n",
       "      <td>0</td>\n",
       "      <td>0</td>\n",
       "      <td>0</td>\n",
       "      <td>10-11-13-12-29</td>\n",
       "    </tr>\n",
       "    <tr>\n",
       "      <th>5</th>\n",
       "      <td>100005</td>\n",
       "      <td>0</td>\n",
       "      <td>0</td>\n",
       "      <td>0</td>\n",
       "      <td>10-11-13-12-44</td>\n",
       "    </tr>\n",
       "    <tr>\n",
       "      <th>6</th>\n",
       "      <td>100006</td>\n",
       "      <td>5</td>\n",
       "      <td>1</td>\n",
       "      <td>5</td>\n",
       "      <td>10-11-13-12-59</td>\n",
       "    </tr>\n",
       "    <tr>\n",
       "      <th>7</th>\n",
       "      <td>100007</td>\n",
       "      <td>1</td>\n",
       "      <td>1</td>\n",
       "      <td>1</td>\n",
       "      <td>10-11-13-13-14</td>\n",
       "    </tr>\n",
       "    <tr>\n",
       "      <th>8</th>\n",
       "      <td>100008</td>\n",
       "      <td>0</td>\n",
       "      <td>0</td>\n",
       "      <td>0</td>\n",
       "      <td>10-11-13-13-29</td>\n",
       "    </tr>\n",
       "    <tr>\n",
       "      <th>9</th>\n",
       "      <td>100009</td>\n",
       "      <td>6</td>\n",
       "      <td>1</td>\n",
       "      <td>6</td>\n",
       "      <td>10-11-13-13-44</td>\n",
       "    </tr>\n",
       "  </tbody>\n",
       "</table>\n",
       "</div>"
      ],
      "text/plain": [
       "  unique_id feature_1 feature_2 feature_3      time_stamp\n",
       "0    100000         0         0         0  10-11-13-11-28\n",
       "1    100001         0         0         0  10-11-13-11-43\n",
       "2    100002         0         0         0  10-11-13-11-58\n",
       "3    100003         0         0         0  10-11-13-12-13\n",
       "4    100004         0         0         0  10-11-13-12-29\n",
       "5    100005         0         0         0  10-11-13-12-44\n",
       "6    100006         5         1         5  10-11-13-12-59\n",
       "7    100007         1         1         1  10-11-13-13-14\n",
       "8    100008         0         0         0  10-11-13-13-29\n",
       "9    100009         6         1         6  10-11-13-13-44"
      ]
     },
     "metadata": {},
     "output_type": "display_data"
    }
   ],
   "source": [
    "# Parse dataset to csv\n",
    "df = pd.DataFrame(dataset_list)\n",
    "display(df)\n",
    "df.to_csv('dataset.csv')"
   ]
  },
  {
   "cell_type": "code",
   "execution_count": 12,
   "id": "b63960e2",
   "metadata": {},
   "outputs": [],
   "source": [
    "def add_to_dataset(content):\n",
    "    content = content.split(',')\n",
    "    unique_id, feature1, feature2, feature3, time_stamp =  content[0], content[1], content[2], content[3], content[4]\n",
    "\n",
    "    # df = pd.read_csv('dataset.csv')\n",
    "    # display(df)\n",
    "    data_point = {\n",
    "        \"unique_id\": unique_id,\n",
    "        \"feature_1\": feature1,\n",
    "        \"feature_2\": feature2,\n",
    "        \"feature_3\": feature3,\n",
    "        \"time_stamp\": time_stamp\n",
    "    }\n",
    "    dataset_list.append(data_point)\n",
    "    # df.append(data_point, ignore_index=True)\n",
    "    # df.loc[len(df.index)] = [[unique_id, feature1, feature2, feature3, time_stamp]]\n",
    "    # df.to_csv('dataset.csv')\n",
    "    print(\"Adding to dataset successful.\")"
   ]
  },
  {
   "cell_type": "code",
   "execution_count": 13,
   "id": "080d058f-3712-42f2-9594-236ae0b67f3e",
   "metadata": {},
   "outputs": [],
   "source": [
    "def callback(resource):\n",
    "\tif resource.type == CON.Type_ContentInstance:\n",
    "\t\tprint(resource.content)\n",
    "\t\tadd_to_dataset(resource.content)\n",
    "\t\tprint(\"HELLO\")\n",
    "\telse:\n",
    "\t\tprint(resource)"
   ]
  },
  {
   "cell_type": "code",
   "execution_count": 14,
   "id": "adf81192-1fee-4c7f-adc6-0fd734307833",
   "metadata": {},
   "outputs": [
    {
     "name": "stdout",
     "output_type": "stream",
     "text": [
      "Setting up notifications...\n"
     ]
    },
    {
     "data": {
      "text/plain": [
       "True"
      ]
     },
     "execution_count": 14,
     "metadata": {},
     "output_type": "execute_result"
    }
   ],
   "source": [
    "print('Setting up notifications...')\n",
    "NOT.setupNotifications(callback)"
   ]
  },
  {
   "cell_type": "code",
   "execution_count": 15,
   "id": "9b6cf392-0ceb-4991-ae93-e5623bd1f774",
   "metadata": {},
   "outputs": [
    {
     "data": {
      "text/plain": [
       "True"
      ]
     },
     "execution_count": 15,
     "metadata": {},
     "output_type": "execute_result"
    }
   ],
   "source": [
    "ae.subscribe()"
   ]
  },
  {
   "cell_type": "code",
   "execution_count": 16,
   "id": "000fd47f-d617-4b58-afbc-da0e1d23c6d7",
   "metadata": {},
   "outputs": [
    {
     "data": {
      "text/plain": [
       "True"
      ]
     },
     "execution_count": 16,
     "metadata": {},
     "output_type": "execute_result"
    },
    {
     "name": "stdout",
     "output_type": "stream",
     "text": [
      "100000,0,0,0,10-11-13-11-28\n",
      "Adding to dataset successful.\n",
      "HELLO\n",
      "100001,0,0,0,10-11-13-11-43\n",
      "Adding to dataset successful.\n",
      "HELLO\n",
      "100002,0,0,0,10-11-13-11-58\n",
      "Adding to dataset successful.\n",
      "HELLO\n",
      "100003,0,0,0,10-11-13-12-13\n",
      "Adding to dataset successful.\n",
      "HELLO\n",
      "100004,0,0,0,10-11-13-12-29\n",
      "Adding to dataset successful.\n",
      "HELLO\n"
     ]
    }
   ],
   "source": [
    "grid_eye.subscribe()"
   ]
  },
  {
   "cell_type": "code",
   "execution_count": null,
   "id": "5ed71dbf-1b0f-4b1e-9d5a-b04522507bef",
   "metadata": {},
   "outputs": [],
   "source": [
    "contents = grid_eye.contents()\n",
    "\n",
    "print(len(contents))\n",
    "print(contents)\n",
    "\n",
    "print(grid_eye.oldestContent())\n",
    "print(grid_eye.latestContent())"
   ]
  }
 ],
 "metadata": {
  "interpreter": {
   "hash": "767d51c1340bd893661ea55ea3124f6de3c7a262a8b4abca0554b478b1e2ff90"
  },
  "kernelspec": {
   "display_name": "Python 3.9.7 64-bit",
   "name": "python3"
  },
  "language_info": {
   "codemirror_mode": {
    "name": "ipython",
    "version": 3
   },
   "file_extension": ".py",
   "mimetype": "text/x-python",
   "name": "python",
   "nbconvert_exporter": "python",
   "pygments_lexer": "ipython3",
   "version": "3.9.7"
  }
 },
 "nbformat": 4,
 "nbformat_minor": 5
}
