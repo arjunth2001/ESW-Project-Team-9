{
 "cells": [
  {
   "cell_type": "code",
   "execution_count": 1,
   "id": "c98dcefa-f657-4669-bd17-4a7e99a6fd8f",
   "metadata": {},
   "outputs": [],
   "source": [
    "from onem2mlib import *\n",
    "import onem2mlib.notifications as NOT\n",
    "import onem2mlib.constants as CON"
   ]
  },
  {
   "cell_type": "code",
   "execution_count": 2,
   "id": "a92e68f3-095b-47c6-8aa3-43505fba2ba2",
   "metadata": {},
   "outputs": [],
   "source": [
    "session = Session('http://0.0.0.0:8080/', 'Cae-admin')"
   ]
  },
  {
   "cell_type": "code",
   "execution_count": 3,
   "id": "b917ee7a-5f7a-424e-b1bc-12fc28cecbc3",
   "metadata": {},
   "outputs": [],
   "source": [
    "cse = CSEBase(session, 'server')"
   ]
  },
  {
   "cell_type": "code",
   "execution_count": 4,
   "id": "3cee0b50-f4e0-41f6-9546-c5a11cd5841e",
   "metadata": {},
   "outputs": [],
   "source": [
    "ae = AE(cse, resourceName='nirmal')"
   ]
  },
  {
   "cell_type": "code",
   "execution_count": 5,
   "id": "04abe7eb-f7d5-4a03-9778-35338f456c69",
   "metadata": {},
   "outputs": [],
   "source": [
    "grid_eye = ae.containers()[0]"
   ]
  },
  {
   "cell_type": "code",
   "execution_count": 6,
   "id": "5733d4b6-8cab-4d4b-86b8-65cb92387274",
   "metadata": {},
   "outputs": [],
   "source": [
    "latest = grid_eye.latestContent()"
   ]
  },
  {
   "cell_type": "code",
   "execution_count": 7,
   "id": "d645395c-57ff-48ee-b84f-c02848b6d542",
   "metadata": {},
   "outputs": [
    {
     "data": {
      "text/plain": [
       "'100114,8,3,4,10-11-13-7-56'"
      ]
     },
     "execution_count": 7,
     "metadata": {},
     "output_type": "execute_result"
    }
   ],
   "source": [
    "latest"
   ]
  },
  {
   "cell_type": "code",
   "execution_count": 24,
   "id": "a6d712f4",
   "metadata": {},
   "outputs": [],
   "source": [
    "# Encryption\n",
    "import re\n",
    "import base64\n",
    "from base64 import b64decode\n",
    "from Crypto.Cipher import AES\n",
    "from Crypto.Util.Padding import pad, unpad"
   ]
  },
  {
   "cell_type": "code",
   "execution_count": 25,
   "id": "f32a9e93",
   "metadata": {},
   "outputs": [],
   "source": [
    "def decode_base64(data, altchars=b'+/'):\n",
    "    data = re.sub(rb'[^a-zA-Z0-9%s]+' % altchars, b'', data)\n",
    "    missing_padding = len(data) % 4\n",
    "    if missing_padding:\n",
    "        data += b'='* (4 - missing_padding)\n",
    "    return base64.b64decode(data, altchars)\n",
    "\n",
    "def decode_AES(ciphertext):\n",
    "    key = \"2B7E151628AED2A6ABF7158809CF4F3C\"\n",
    "    iv = \"AAAAAAAAAAAAAAAAAAAAAA==\"\n",
    "\n",
    "    key = bytearray.fromhex(key)\n",
    "    iv = b64decode(iv).hex()\n",
    "    iv = bytearray.fromhex(iv)\n",
    "    ciphertext = b64decode(ciphertext)\n",
    "\n",
    "    cipher = AES.new(key, AES.MODE_CBC, iv)\n",
    "    decrypted = cipher.decrypt(ciphertext)\n",
    "    decryptedUnpad = unpad(decrypted, AES.block_size)\n",
    "    return decode_base64(decryptedUnpad).decode(\"utf-8\")"
   ]
  },
  {
   "cell_type": "code",
   "execution_count": 8,
   "id": "89d03e5b",
   "metadata": {},
   "outputs": [],
   "source": [
    "from IPython.display import display\n",
    "import pandas as pd"
   ]
  },
  {
   "cell_type": "code",
   "execution_count": null,
   "id": "e5a94f59",
   "metadata": {},
   "outputs": [],
   "source": [
    "# Creating empty dataframe\n",
    "# RUN only if you want to recreate dataset\n",
    "dict = {\n",
    "    \"unique_id\": [],\n",
    "    \"feature_1\": [],\n",
    "    \"feature_2\": [],\n",
    "    \"feature_3\": [],\n",
    "    \"time_stamp\": []\n",
    "}\n",
    "df = pd.DataFrame(dict)\n",
    "display(df)\n",
    "df.to_csv('dataset.csv')"
   ]
  },
  {
   "cell_type": "code",
   "execution_count": 36,
   "id": "89ac7d42",
   "metadata": {},
   "outputs": [
    {
     "name": "stdout",
     "output_type": "stream",
     "text": [
      "sJhXV9PuHfdksRKE6V61EDnlMbgHayNAztZ8DUCtfCJu1G2KBOTg9mUA7YOKMiRH\n"
     ]
    },
    {
     "name": "stderr",
     "output_type": "stream",
     "text": [
      "----------------------------------------\n",
      "Exception occurred during processing of request from ('127.0.0.1', 46426)\n",
      "Traceback (most recent call last):\n",
      "  File \"/usr/lib/python3.9/socketserver.py\", line 316, in _handle_request_noblock\n",
      "    self.process_request(request, client_address)\n",
      "  File \"/usr/lib/python3.9/socketserver.py\", line 347, in process_request\n",
      "    self.finish_request(request, client_address)\n",
      "  File \"/usr/lib/python3.9/socketserver.py\", line 360, in finish_request\n",
      "    self.RequestHandlerClass(request, client_address, self)\n",
      "  File \"/usr/lib/python3.9/socketserver.py\", line 747, in __init__\n",
      "    self.handle()\n",
      "  File \"/usr/lib/python3.9/http/server.py\", line 427, in handle\n",
      "    self.handle_one_request()\n",
      "  File \"/usr/lib/python3.9/http/server.py\", line 415, in handle_one_request\n",
      "    method()\n",
      "  File \"/home/nmc/Arduino/ESW-Project-Team-9/grid_eye_demo/onem2mlib/notifications.py\", line 319, in do_POST\n",
      "    threading.Thread(target=self._handleJSON(post_data), args=(post_data)).start()\n",
      "  File \"/home/nmc/Arduino/ESW-Project-Team-9/grid_eye_demo/onem2mlib/notifications.py\", line 384, in _handleJSON\n",
      "    self._callCallback(resource, sur)\n",
      "  File \"/home/nmc/Arduino/ESW-Project-Team-9/grid_eye_demo/onem2mlib/notifications.py\", line 397, in _callCallback\n",
      "    callback(resource)\n",
      "  File \"/tmp/ipykernel_15647/2413170770.py\", line 4, in callback\n",
      "    add_to_dataset(resource.content)\n",
      "  File \"/tmp/ipykernel_15647/1639706041.py\", line 3, in add_to_dataset\n",
      "    unique_id, feature1, feature2, feature3, time_stamp =  content[0], content[1], content[2], content[3], content[4]\n",
      "IndexError: list index out of range\n",
      "----------------------------------------\n"
     ]
    }
   ],
   "source": [
    "# dataset_list = []\n",
    "dataset_list = df['']"
   ]
  },
  {
   "cell_type": "code",
   "execution_count": 33,
   "id": "f75be0ac",
   "metadata": {},
   "outputs": [
    {
     "name": "stdout",
     "output_type": "stream",
     "text": [
      "[{'unique_id': '100000', 'feature_1': '0', 'feature_2': '0', 'feature_3': '0', 'time_stamp': '10-11-13-11-28'}, {'unique_id': '100001', 'feature_1': '0', 'feature_2': '0', 'feature_3': '0', 'time_stamp': '10-11-13-11-43'}, {'unique_id': '100002', 'feature_1': '0', 'feature_2': '0', 'feature_3': '0', 'time_stamp': '10-11-13-11-58'}, {'unique_id': '100003', 'feature_1': '0', 'feature_2': '0', 'feature_3': '0', 'time_stamp': '10-11-13-12-13'}, {'unique_id': '100004', 'feature_1': '0', 'feature_2': '0', 'feature_3': '0', 'time_stamp': '10-11-13-12-29'}, {'unique_id': '100005', 'feature_1': '0', 'feature_2': '0', 'feature_3': '0', 'time_stamp': '10-11-13-12-44'}, {'unique_id': '100006', 'feature_1': '5', 'feature_2': '1', 'feature_3': '5', 'time_stamp': '10-11-13-12-59'}, {'unique_id': '100007', 'feature_1': '1', 'feature_2': '1', 'feature_3': '1', 'time_stamp': '10-11-13-13-14'}, {'unique_id': '100008', 'feature_1': '0', 'feature_2': '0', 'feature_3': '0', 'time_stamp': '10-11-13-13-29'}, {'unique_id': '100009', 'feature_1': '6', 'feature_2': '1', 'feature_3': '6', 'time_stamp': '10-11-13-13-44'}, {'unique_id': '100010', 'feature_1': '6', 'feature_2': '1', 'feature_3': '6', 'time_stamp': '10-11-13-14-0'}, {'unique_id': '100011', 'feature_1': '0', 'feature_2': '0', 'feature_3': '0', 'time_stamp': '10-11-13-14-15'}, {'unique_id': '100012', 'feature_1': '4', 'feature_2': '1', 'feature_3': '4', 'time_stamp': '10-11-13-14-30'}, {'unique_id': '100013', 'feature_1': '5', 'feature_2': '2', 'feature_3': '4', 'time_stamp': '10-11-13-14-45'}, {'unique_id': '100014', 'feature_1': '3', 'feature_2': '1', 'feature_3': '3', 'time_stamp': '10-11-13-15-0'}, {'unique_id': '100015', 'feature_1': '3', 'feature_2': '1', 'feature_3': '3', 'time_stamp': '10-11-13-15-15'}, {'unique_id': '100016', 'feature_1': '4', 'feature_2': '1', 'feature_3': '4', 'time_stamp': '10-11-13-15-30'}, {'unique_id': '100017', 'feature_1': '1', 'feature_2': '1', 'feature_3': '1', 'time_stamp': '10-11-13-15-46'}, {'unique_id': '100018', 'feature_1': '0', 'feature_2': '0', 'feature_3': '0', 'time_stamp': '10-11-13-16-1'}, {'unique_id': '100019', 'feature_1': '4', 'feature_2': '4', 'feature_3': '1', 'time_stamp': '10-11-13-16-16'}, {'unique_id': '100020', 'feature_1': '4', 'feature_2': '4', 'feature_3': '1', 'time_stamp': '10-11-13-16-31'}, {'unique_id': '100021', 'feature_1': '3', 'feature_2': '1', 'feature_3': '3', 'time_stamp': '10-11-13-16-46'}, {'unique_id': '100022', 'feature_1': '3', 'feature_2': '1', 'feature_3': '3', 'time_stamp': '10-11-13-17-1'}, {'unique_id': '100023', 'feature_1': '3', 'feature_2': '1', 'feature_3': '3', 'time_stamp': '10-11-13-17-17'}, {'unique_id': '100024', 'feature_1': '0', 'feature_2': '0', 'feature_3': '0', 'time_stamp': '10-11-13-17-32'}, {'unique_id': '100025', 'feature_1': '0', 'feature_2': '0', 'feature_3': '0', 'time_stamp': '10-11-13-17-47'}, {'unique_id': '100026', 'feature_1': '0', 'feature_2': '0', 'feature_3': '0', 'time_stamp': '10-11-13-18-2'}, {'unique_id': '100027', 'feature_1': '0', 'feature_2': '0', 'feature_3': '0', 'time_stamp': '10-11-13-18-17'}, {'unique_id': '100028', 'feature_1': '0', 'feature_2': '0', 'feature_3': '0', 'time_stamp': '10-11-13-18-32'}, {'unique_id': '100029', 'feature_1': '0', 'feature_2': '0', 'feature_3': '0', 'time_stamp': '10-11-13-18-47'}, {'unique_id': '100030', 'feature_1': '1', 'feature_2': '1', 'feature_3': '1', 'time_stamp': '10-11-13-19-2'}, {'unique_id': '100031', 'feature_1': '0', 'feature_2': '0', 'feature_3': '0', 'time_stamp': '10-11-13-19-17'}, {'unique_id': '100032', 'feature_1': '0', 'feature_2': '0', 'feature_3': '0', 'time_stamp': '10-11-13-19-32'}, {'unique_id': '100033', 'feature_1': '2', 'feature_2': '2', 'feature_3': '1', 'time_stamp': '10-11-13-19-47'}, {'unique_id': '100034', 'feature_1': '3', 'feature_2': '2', 'feature_3': '2', 'time_stamp': '10-11-13-20-2'}, {'unique_id': '100000', 'feature_1': '0', 'feature_2': '0', 'feature_3': '0', 'time_stamp': '10-11-13-25-19'}, {'unique_id': '100001', 'feature_1': '7', 'feature_2': '1', 'feature_3': '7', 'time_stamp': '10-11-13-25-34'}, {'unique_id': '100002', 'feature_1': '24', 'feature_2': '1', 'feature_3': '24', 'time_stamp': '10-11-13-25-49'}, {'unique_id': '100003', 'feature_1': '11', 'feature_2': '2', 'feature_3': '9', 'time_stamp': '10-11-13-26-4'}, {'unique_id': '100004', 'feature_1': '0', 'feature_2': '0', 'feature_3': '0', 'time_stamp': '10-11-13-26-19'}]\n",
      "/oIARzUh8Ml7tNhZbdiiepV/LoNJie6xf7wkhVBtaERIfZGwiSwGldnCoo3AHXmq\n"
     ]
    },
    {
     "name": "stderr",
     "output_type": "stream",
     "text": [
      "----------------------------------------\n",
      "Exception occurred during processing of request from ('127.0.0.1', 46260)\n",
      "Traceback (most recent call last):\n",
      "  File \"/usr/lib/python3.9/socketserver.py\", line 316, in _handle_request_noblock\n",
      "    self.process_request(request, client_address)\n",
      "  File \"/usr/lib/python3.9/socketserver.py\", line 347, in process_request\n",
      "    self.finish_request(request, client_address)\n",
      "  File \"/usr/lib/python3.9/socketserver.py\", line 360, in finish_request\n",
      "    self.RequestHandlerClass(request, client_address, self)\n",
      "  File \"/usr/lib/python3.9/socketserver.py\", line 747, in __init__\n",
      "    self.handle()\n",
      "  File \"/usr/lib/python3.9/http/server.py\", line 427, in handle\n",
      "    self.handle_one_request()\n",
      "  File \"/usr/lib/python3.9/http/server.py\", line 415, in handle_one_request\n",
      "    method()\n",
      "  File \"/home/nmc/Arduino/ESW-Project-Team-9/grid_eye_demo/onem2mlib/notifications.py\", line 319, in do_POST\n",
      "    threading.Thread(target=self._handleJSON(post_data), args=(post_data)).start()\n",
      "  File \"/home/nmc/Arduino/ESW-Project-Team-9/grid_eye_demo/onem2mlib/notifications.py\", line 384, in _handleJSON\n",
      "    self._callCallback(resource, sur)\n",
      "  File \"/home/nmc/Arduino/ESW-Project-Team-9/grid_eye_demo/onem2mlib/notifications.py\", line 397, in _callCallback\n",
      "    callback(resource)\n",
      "  File \"/tmp/ipykernel_15647/2413170770.py\", line 4, in callback\n",
      "    add_to_dataset(resource.content)\n",
      "  File \"/tmp/ipykernel_15647/1639706041.py\", line 3, in add_to_dataset\n",
      "    unique_id, feature1, feature2, feature3, time_stamp =  content[0], content[1], content[2], content[3], content[4]\n",
      "IndexError: list index out of range\n",
      "----------------------------------------\n"
     ]
    },
    {
     "name": "stdout",
     "output_type": "stream",
     "text": [
      "A2e1dGVfBCtKx2eC6JcenmhI/aq5HjJ29W+UdHHx/O9fNlHOehB/ntguijmjf9eA\n"
     ]
    },
    {
     "name": "stderr",
     "output_type": "stream",
     "text": [
      "----------------------------------------\n",
      "Exception occurred during processing of request from ('127.0.0.1', 46288)\n",
      "Traceback (most recent call last):\n",
      "  File \"/usr/lib/python3.9/socketserver.py\", line 316, in _handle_request_noblock\n",
      "    self.process_request(request, client_address)\n",
      "  File \"/usr/lib/python3.9/socketserver.py\", line 347, in process_request\n",
      "    self.finish_request(request, client_address)\n",
      "  File \"/usr/lib/python3.9/socketserver.py\", line 360, in finish_request\n",
      "    self.RequestHandlerClass(request, client_address, self)\n",
      "  File \"/usr/lib/python3.9/socketserver.py\", line 747, in __init__\n",
      "    self.handle()\n",
      "  File \"/usr/lib/python3.9/http/server.py\", line 427, in handle\n",
      "    self.handle_one_request()\n",
      "  File \"/usr/lib/python3.9/http/server.py\", line 415, in handle_one_request\n",
      "    method()\n",
      "  File \"/home/nmc/Arduino/ESW-Project-Team-9/grid_eye_demo/onem2mlib/notifications.py\", line 319, in do_POST\n",
      "    threading.Thread(target=self._handleJSON(post_data), args=(post_data)).start()\n",
      "  File \"/home/nmc/Arduino/ESW-Project-Team-9/grid_eye_demo/onem2mlib/notifications.py\", line 384, in _handleJSON\n",
      "    self._callCallback(resource, sur)\n",
      "  File \"/home/nmc/Arduino/ESW-Project-Team-9/grid_eye_demo/onem2mlib/notifications.py\", line 397, in _callCallback\n",
      "    callback(resource)\n",
      "  File \"/tmp/ipykernel_15647/2413170770.py\", line 4, in callback\n",
      "    add_to_dataset(resource.content)\n",
      "  File \"/tmp/ipykernel_15647/1639706041.py\", line 3, in add_to_dataset\n",
      "    unique_id, feature1, feature2, feature3, time_stamp =  content[0], content[1], content[2], content[3], content[4]\n",
      "IndexError: list index out of range\n",
      "----------------------------------------\n"
     ]
    }
   ],
   "source": [
    "print(dataset_list)"
   ]
  },
  {
   "cell_type": "code",
   "execution_count": 22,
   "id": "5444f3b3",
   "metadata": {},
   "outputs": [
    {
     "data": {
      "text/html": [
       "<div>\n",
       "<style scoped>\n",
       "    .dataframe tbody tr th:only-of-type {\n",
       "        vertical-align: middle;\n",
       "    }\n",
       "\n",
       "    .dataframe tbody tr th {\n",
       "        vertical-align: top;\n",
       "    }\n",
       "\n",
       "    .dataframe thead th {\n",
       "        text-align: right;\n",
       "    }\n",
       "</style>\n",
       "<table border=\"1\" class=\"dataframe\">\n",
       "  <thead>\n",
       "    <tr style=\"text-align: right;\">\n",
       "      <th></th>\n",
       "      <th>unique_id</th>\n",
       "      <th>feature_1</th>\n",
       "      <th>feature_2</th>\n",
       "      <th>feature_3</th>\n",
       "      <th>time_stamp</th>\n",
       "    </tr>\n",
       "  </thead>\n",
       "  <tbody>\n",
       "    <tr>\n",
       "      <th>0</th>\n",
       "      <td>100000</td>\n",
       "      <td>0</td>\n",
       "      <td>0</td>\n",
       "      <td>0</td>\n",
       "      <td>10-11-13-11-28</td>\n",
       "    </tr>\n",
       "    <tr>\n",
       "      <th>1</th>\n",
       "      <td>100001</td>\n",
       "      <td>0</td>\n",
       "      <td>0</td>\n",
       "      <td>0</td>\n",
       "      <td>10-11-13-11-43</td>\n",
       "    </tr>\n",
       "    <tr>\n",
       "      <th>2</th>\n",
       "      <td>100002</td>\n",
       "      <td>0</td>\n",
       "      <td>0</td>\n",
       "      <td>0</td>\n",
       "      <td>10-11-13-11-58</td>\n",
       "    </tr>\n",
       "    <tr>\n",
       "      <th>3</th>\n",
       "      <td>100003</td>\n",
       "      <td>0</td>\n",
       "      <td>0</td>\n",
       "      <td>0</td>\n",
       "      <td>10-11-13-12-13</td>\n",
       "    </tr>\n",
       "    <tr>\n",
       "      <th>4</th>\n",
       "      <td>100004</td>\n",
       "      <td>0</td>\n",
       "      <td>0</td>\n",
       "      <td>0</td>\n",
       "      <td>10-11-13-12-29</td>\n",
       "    </tr>\n",
       "    <tr>\n",
       "      <th>5</th>\n",
       "      <td>100005</td>\n",
       "      <td>0</td>\n",
       "      <td>0</td>\n",
       "      <td>0</td>\n",
       "      <td>10-11-13-12-44</td>\n",
       "    </tr>\n",
       "    <tr>\n",
       "      <th>6</th>\n",
       "      <td>100006</td>\n",
       "      <td>5</td>\n",
       "      <td>1</td>\n",
       "      <td>5</td>\n",
       "      <td>10-11-13-12-59</td>\n",
       "    </tr>\n",
       "    <tr>\n",
       "      <th>7</th>\n",
       "      <td>100007</td>\n",
       "      <td>1</td>\n",
       "      <td>1</td>\n",
       "      <td>1</td>\n",
       "      <td>10-11-13-13-14</td>\n",
       "    </tr>\n",
       "    <tr>\n",
       "      <th>8</th>\n",
       "      <td>100008</td>\n",
       "      <td>0</td>\n",
       "      <td>0</td>\n",
       "      <td>0</td>\n",
       "      <td>10-11-13-13-29</td>\n",
       "    </tr>\n",
       "    <tr>\n",
       "      <th>9</th>\n",
       "      <td>100009</td>\n",
       "      <td>6</td>\n",
       "      <td>1</td>\n",
       "      <td>6</td>\n",
       "      <td>10-11-13-13-44</td>\n",
       "    </tr>\n",
       "    <tr>\n",
       "      <th>10</th>\n",
       "      <td>100010</td>\n",
       "      <td>6</td>\n",
       "      <td>1</td>\n",
       "      <td>6</td>\n",
       "      <td>10-11-13-14-0</td>\n",
       "    </tr>\n",
       "    <tr>\n",
       "      <th>11</th>\n",
       "      <td>100011</td>\n",
       "      <td>0</td>\n",
       "      <td>0</td>\n",
       "      <td>0</td>\n",
       "      <td>10-11-13-14-15</td>\n",
       "    </tr>\n",
       "    <tr>\n",
       "      <th>12</th>\n",
       "      <td>100012</td>\n",
       "      <td>4</td>\n",
       "      <td>1</td>\n",
       "      <td>4</td>\n",
       "      <td>10-11-13-14-30</td>\n",
       "    </tr>\n",
       "    <tr>\n",
       "      <th>13</th>\n",
       "      <td>100013</td>\n",
       "      <td>5</td>\n",
       "      <td>2</td>\n",
       "      <td>4</td>\n",
       "      <td>10-11-13-14-45</td>\n",
       "    </tr>\n",
       "    <tr>\n",
       "      <th>14</th>\n",
       "      <td>100014</td>\n",
       "      <td>3</td>\n",
       "      <td>1</td>\n",
       "      <td>3</td>\n",
       "      <td>10-11-13-15-0</td>\n",
       "    </tr>\n",
       "    <tr>\n",
       "      <th>15</th>\n",
       "      <td>100015</td>\n",
       "      <td>3</td>\n",
       "      <td>1</td>\n",
       "      <td>3</td>\n",
       "      <td>10-11-13-15-15</td>\n",
       "    </tr>\n",
       "    <tr>\n",
       "      <th>16</th>\n",
       "      <td>100016</td>\n",
       "      <td>4</td>\n",
       "      <td>1</td>\n",
       "      <td>4</td>\n",
       "      <td>10-11-13-15-30</td>\n",
       "    </tr>\n",
       "    <tr>\n",
       "      <th>17</th>\n",
       "      <td>100017</td>\n",
       "      <td>1</td>\n",
       "      <td>1</td>\n",
       "      <td>1</td>\n",
       "      <td>10-11-13-15-46</td>\n",
       "    </tr>\n",
       "    <tr>\n",
       "      <th>18</th>\n",
       "      <td>100018</td>\n",
       "      <td>0</td>\n",
       "      <td>0</td>\n",
       "      <td>0</td>\n",
       "      <td>10-11-13-16-1</td>\n",
       "    </tr>\n",
       "    <tr>\n",
       "      <th>19</th>\n",
       "      <td>100019</td>\n",
       "      <td>4</td>\n",
       "      <td>4</td>\n",
       "      <td>1</td>\n",
       "      <td>10-11-13-16-16</td>\n",
       "    </tr>\n",
       "    <tr>\n",
       "      <th>20</th>\n",
       "      <td>100020</td>\n",
       "      <td>4</td>\n",
       "      <td>4</td>\n",
       "      <td>1</td>\n",
       "      <td>10-11-13-16-31</td>\n",
       "    </tr>\n",
       "    <tr>\n",
       "      <th>21</th>\n",
       "      <td>100021</td>\n",
       "      <td>3</td>\n",
       "      <td>1</td>\n",
       "      <td>3</td>\n",
       "      <td>10-11-13-16-46</td>\n",
       "    </tr>\n",
       "    <tr>\n",
       "      <th>22</th>\n",
       "      <td>100022</td>\n",
       "      <td>3</td>\n",
       "      <td>1</td>\n",
       "      <td>3</td>\n",
       "      <td>10-11-13-17-1</td>\n",
       "    </tr>\n",
       "    <tr>\n",
       "      <th>23</th>\n",
       "      <td>100023</td>\n",
       "      <td>3</td>\n",
       "      <td>1</td>\n",
       "      <td>3</td>\n",
       "      <td>10-11-13-17-17</td>\n",
       "    </tr>\n",
       "    <tr>\n",
       "      <th>24</th>\n",
       "      <td>100024</td>\n",
       "      <td>0</td>\n",
       "      <td>0</td>\n",
       "      <td>0</td>\n",
       "      <td>10-11-13-17-32</td>\n",
       "    </tr>\n",
       "    <tr>\n",
       "      <th>25</th>\n",
       "      <td>100025</td>\n",
       "      <td>0</td>\n",
       "      <td>0</td>\n",
       "      <td>0</td>\n",
       "      <td>10-11-13-17-47</td>\n",
       "    </tr>\n",
       "    <tr>\n",
       "      <th>26</th>\n",
       "      <td>100026</td>\n",
       "      <td>0</td>\n",
       "      <td>0</td>\n",
       "      <td>0</td>\n",
       "      <td>10-11-13-18-2</td>\n",
       "    </tr>\n",
       "    <tr>\n",
       "      <th>27</th>\n",
       "      <td>100027</td>\n",
       "      <td>0</td>\n",
       "      <td>0</td>\n",
       "      <td>0</td>\n",
       "      <td>10-11-13-18-17</td>\n",
       "    </tr>\n",
       "    <tr>\n",
       "      <th>28</th>\n",
       "      <td>100028</td>\n",
       "      <td>0</td>\n",
       "      <td>0</td>\n",
       "      <td>0</td>\n",
       "      <td>10-11-13-18-32</td>\n",
       "    </tr>\n",
       "    <tr>\n",
       "      <th>29</th>\n",
       "      <td>100029</td>\n",
       "      <td>0</td>\n",
       "      <td>0</td>\n",
       "      <td>0</td>\n",
       "      <td>10-11-13-18-47</td>\n",
       "    </tr>\n",
       "    <tr>\n",
       "      <th>30</th>\n",
       "      <td>100030</td>\n",
       "      <td>1</td>\n",
       "      <td>1</td>\n",
       "      <td>1</td>\n",
       "      <td>10-11-13-19-2</td>\n",
       "    </tr>\n",
       "    <tr>\n",
       "      <th>31</th>\n",
       "      <td>100031</td>\n",
       "      <td>0</td>\n",
       "      <td>0</td>\n",
       "      <td>0</td>\n",
       "      <td>10-11-13-19-17</td>\n",
       "    </tr>\n",
       "    <tr>\n",
       "      <th>32</th>\n",
       "      <td>100032</td>\n",
       "      <td>0</td>\n",
       "      <td>0</td>\n",
       "      <td>0</td>\n",
       "      <td>10-11-13-19-32</td>\n",
       "    </tr>\n",
       "    <tr>\n",
       "      <th>33</th>\n",
       "      <td>100033</td>\n",
       "      <td>2</td>\n",
       "      <td>2</td>\n",
       "      <td>1</td>\n",
       "      <td>10-11-13-19-47</td>\n",
       "    </tr>\n",
       "    <tr>\n",
       "      <th>34</th>\n",
       "      <td>100034</td>\n",
       "      <td>3</td>\n",
       "      <td>2</td>\n",
       "      <td>2</td>\n",
       "      <td>10-11-13-20-2</td>\n",
       "    </tr>\n",
       "    <tr>\n",
       "      <th>35</th>\n",
       "      <td>100000</td>\n",
       "      <td>0</td>\n",
       "      <td>0</td>\n",
       "      <td>0</td>\n",
       "      <td>10-11-13-25-19</td>\n",
       "    </tr>\n",
       "    <tr>\n",
       "      <th>36</th>\n",
       "      <td>100001</td>\n",
       "      <td>7</td>\n",
       "      <td>1</td>\n",
       "      <td>7</td>\n",
       "      <td>10-11-13-25-34</td>\n",
       "    </tr>\n",
       "    <tr>\n",
       "      <th>37</th>\n",
       "      <td>100002</td>\n",
       "      <td>24</td>\n",
       "      <td>1</td>\n",
       "      <td>24</td>\n",
       "      <td>10-11-13-25-49</td>\n",
       "    </tr>\n",
       "  </tbody>\n",
       "</table>\n",
       "</div>"
      ],
      "text/plain": [
       "   unique_id feature_1 feature_2 feature_3      time_stamp\n",
       "0     100000         0         0         0  10-11-13-11-28\n",
       "1     100001         0         0         0  10-11-13-11-43\n",
       "2     100002         0         0         0  10-11-13-11-58\n",
       "3     100003         0         0         0  10-11-13-12-13\n",
       "4     100004         0         0         0  10-11-13-12-29\n",
       "5     100005         0         0         0  10-11-13-12-44\n",
       "6     100006         5         1         5  10-11-13-12-59\n",
       "7     100007         1         1         1  10-11-13-13-14\n",
       "8     100008         0         0         0  10-11-13-13-29\n",
       "9     100009         6         1         6  10-11-13-13-44\n",
       "10    100010         6         1         6   10-11-13-14-0\n",
       "11    100011         0         0         0  10-11-13-14-15\n",
       "12    100012         4         1         4  10-11-13-14-30\n",
       "13    100013         5         2         4  10-11-13-14-45\n",
       "14    100014         3         1         3   10-11-13-15-0\n",
       "15    100015         3         1         3  10-11-13-15-15\n",
       "16    100016         4         1         4  10-11-13-15-30\n",
       "17    100017         1         1         1  10-11-13-15-46\n",
       "18    100018         0         0         0   10-11-13-16-1\n",
       "19    100019         4         4         1  10-11-13-16-16\n",
       "20    100020         4         4         1  10-11-13-16-31\n",
       "21    100021         3         1         3  10-11-13-16-46\n",
       "22    100022         3         1         3   10-11-13-17-1\n",
       "23    100023         3         1         3  10-11-13-17-17\n",
       "24    100024         0         0         0  10-11-13-17-32\n",
       "25    100025         0         0         0  10-11-13-17-47\n",
       "26    100026         0         0         0   10-11-13-18-2\n",
       "27    100027         0         0         0  10-11-13-18-17\n",
       "28    100028         0         0         0  10-11-13-18-32\n",
       "29    100029         0         0         0  10-11-13-18-47\n",
       "30    100030         1         1         1   10-11-13-19-2\n",
       "31    100031         0         0         0  10-11-13-19-17\n",
       "32    100032         0         0         0  10-11-13-19-32\n",
       "33    100033         2         2         1  10-11-13-19-47\n",
       "34    100034         3         2         2   10-11-13-20-2\n",
       "35    100000         0         0         0  10-11-13-25-19\n",
       "36    100001         7         1         7  10-11-13-25-34\n",
       "37    100002        24         1        24  10-11-13-25-49"
      ]
     },
     "metadata": {},
     "output_type": "display_data"
    },
    {
     "name": "stdout",
     "output_type": "stream",
     "text": [
      "100003,11,2,9,10-11-13-26-4\n",
      "Adding to dataset successful.\n",
      "HELLO\n",
      "100004,0,0,0,10-11-13-26-19\n",
      "Adding to dataset successful.\n",
      "HELLO\n"
     ]
    }
   ],
   "source": [
    "# Parse dataset to csv\n",
    "df = pd.DataFrame(dataset_list)\n",
    "display(df)\n",
    "df.to_csv('dataset.csv')"
   ]
  },
  {
   "cell_type": "code",
   "execution_count": 26,
   "id": "b63960e2",
   "metadata": {},
   "outputs": [],
   "source": [
    "def add_to_dataset(content):\n",
    "    content = content.split(',')\n",
    "    unique_id, feature1, feature2, feature3, time_stamp =  content[0], content[1], content[2], content[3], content[4]\n",
    "\n",
    "    # df = pd.read_csv('dataset.csv')\n",
    "    # display(df)\n",
    "    data_point = {\n",
    "        \"unique_id\": unique_id,\n",
    "        \"feature_1\": feature1,\n",
    "        \"feature_2\": feature2,\n",
    "        \"feature_3\": feature3,\n",
    "        \"time_stamp\": time_stamp\n",
    "    }\n",
    "    dataset_list.append(data_point)\n",
    "    # df.append(data_point, ignore_index=True)\n",
    "    # df.loc[len(df.index)] = [[unique_id, feature1, feature2, feature3, time_stamp]]\n",
    "    # df.to_csv('dataset.csv')\n",
    "    print(\"Adding to dataset successful.\")"
   ]
  },
  {
   "cell_type": "code",
   "execution_count": 27,
   "id": "080d058f-3712-42f2-9594-236ae0b67f3e",
   "metadata": {},
   "outputs": [],
   "source": [
    "def callback(resource):\n",
    "\tif resource.type == CON.Type_ContentInstance:\n",
    "\t\tprint(resource.content)\n",
    "\t\tdec_content = decode_AES(resource.content)\n",
    "\t\tadd_to_dataset(dec_content)\n",
    "\t\tprint(\"HELLO\")\n",
    "\telse:\n",
    "\t\tprint(resource)"
   ]
  },
  {
   "cell_type": "code",
   "execution_count": 28,
   "id": "adf81192-1fee-4c7f-adc6-0fd734307833",
   "metadata": {},
   "outputs": [
    {
     "name": "stdout",
     "output_type": "stream",
     "text": [
      "Setting up notifications...\n"
     ]
    },
    {
     "data": {
      "text/plain": [
       "True"
      ]
     },
     "execution_count": 28,
     "metadata": {},
     "output_type": "execute_result"
    }
   ],
   "source": [
    "print('Setting up notifications...')\n",
    "NOT.setupNotifications(callback)"
   ]
  },
  {
   "cell_type": "code",
   "execution_count": 29,
   "id": "9b6cf392-0ceb-4991-ae93-e5623bd1f774",
   "metadata": {},
   "outputs": [
    {
     "data": {
      "text/plain": [
       "True"
      ]
     },
     "execution_count": 29,
     "metadata": {},
     "output_type": "execute_result"
    }
   ],
   "source": [
    "ae.subscribe()"
   ]
  },
  {
   "cell_type": "code",
   "execution_count": 34,
   "id": "000fd47f-d617-4b58-afbc-da0e1d23c6d7",
   "metadata": {},
   "outputs": [
    {
     "data": {
      "text/plain": [
       "True"
      ]
     },
     "execution_count": 34,
     "metadata": {},
     "output_type": "execute_result"
    },
    {
     "name": "stdout",
     "output_type": "stream",
     "text": [
      "oPtC+IUuCHcM8ObQVDqPLoBf650TAGqopXipzFdtHhJJmYe1MVMcS4dkVaebFJVd\n"
     ]
    },
    {
     "name": "stderr",
     "output_type": "stream",
     "text": [
      "----------------------------------------\n",
      "Exception occurred during processing of request from ('127.0.0.1', 46308)\n",
      "Traceback (most recent call last):\n",
      "  File \"/usr/lib/python3.9/socketserver.py\", line 316, in _handle_request_noblock\n",
      "    self.process_request(request, client_address)\n",
      "  File \"/usr/lib/python3.9/socketserver.py\", line 347, in process_request\n",
      "    self.finish_request(request, client_address)\n",
      "  File \"/usr/lib/python3.9/socketserver.py\", line 360, in finish_request\n",
      "    self.RequestHandlerClass(request, client_address, self)\n",
      "  File \"/usr/lib/python3.9/socketserver.py\", line 747, in __init__\n",
      "    self.handle()\n",
      "  File \"/usr/lib/python3.9/http/server.py\", line 427, in handle\n",
      "    self.handle_one_request()\n",
      "  File \"/usr/lib/python3.9/http/server.py\", line 415, in handle_one_request\n",
      "    method()\n",
      "  File \"/home/nmc/Arduino/ESW-Project-Team-9/grid_eye_demo/onem2mlib/notifications.py\", line 319, in do_POST\n",
      "    threading.Thread(target=self._handleJSON(post_data), args=(post_data)).start()\n",
      "  File \"/home/nmc/Arduino/ESW-Project-Team-9/grid_eye_demo/onem2mlib/notifications.py\", line 384, in _handleJSON\n",
      "    self._callCallback(resource, sur)\n",
      "  File \"/home/nmc/Arduino/ESW-Project-Team-9/grid_eye_demo/onem2mlib/notifications.py\", line 397, in _callCallback\n",
      "    callback(resource)\n",
      "  File \"/tmp/ipykernel_15647/2413170770.py\", line 4, in callback\n",
      "    add_to_dataset(resource.content)\n",
      "  File \"/tmp/ipykernel_15647/1639706041.py\", line 3, in add_to_dataset\n",
      "    unique_id, feature1, feature2, feature3, time_stamp =  content[0], content[1], content[2], content[3], content[4]\n",
      "IndexError: list index out of range\n",
      "----------------------------------------\n"
     ]
    }
   ],
   "source": [
    "grid_eye.subscribe()"
   ]
  },
  {
   "cell_type": "code",
   "execution_count": 35,
   "id": "5ed71dbf-1b0f-4b1e-9d5a-b04522507bef",
   "metadata": {},
   "outputs": [
    {
     "name": "stdout",
     "output_type": "stream",
     "text": [
      "26\n",
      "['100027,0,0,0,10-11-13-18-17', '100028,0,0,0,10-11-13-18-32', '100029,0,0,0,10-11-13-18-47', '100030,1,1,1,10-11-13-19-2', '100031,0,0,0,10-11-13-19-17', '100032,0,0,0,10-11-13-19-32', '100033,2,2,1,10-11-13-19-47', '100034,3,2,2,10-11-13-20-2', '100000,0,0,0,10-11-13-25-19', '100001,7,1,7,10-11-13-25-34', '100002,24,1,24,10-11-13-25-49', '100003,11,2,9,10-11-13-26-4', '100004,0,0,0,10-11-13-26-19', 'KU3lbwzjLlR3SrJsip2AS94Sy4pHB6vRzyExaNNzTxwFPvkc1BI7G1pJSmf8qFOO', 'eP+sy3TixoHUkci+NUGF2QQZWQY5zhuwIPhAmoits6NY3d9SJBSZ+vD/Xtbjl/d7', 'hewsWdb8t0MUo/rv9sM9O+jZveb7vgqmHRpkK572f3w2QiqvXmJxPY8yUngeAFhd', 'IeuAnZdknufs4a5NL09+u0fBi/66Ro7U+4vhyURAE7rZB1V6a2CMmZ3A6XsO8Akm', 'ZlbGiEFe0bI+y+MDZWMeWKSgzIZ4A590f2HhUU0mQAvqILVUYFIu9If5zEE5n0fA', 'A7BeEGVcvZxgb2DcDTOLvzKZ37ok0+osJ0oAVfCRLkHW/WqNAKodci2zm/RaINEu', 'rjSDNbU+cowCM9Ot79C9cl5sjzdhIcYcNrFh48ndDYFRbVZJeQo+/uMr+mkdvVX/', 'VLcfoMI5bypGVgN+EyNYl0obseuPFDNoBybqGdQyvLhTYjk/g7fKMUHb/knDlVok', 'fQeNZq/cD5BXzXRRIicb9FLe2JBAFrdiSJi1W0wfm5IDuUelxi+jlKonWDSVxQ1M', 'thp9HMufnKQi4w5RP4ovcT72vkTevdCs+06qqWrzjkT+PQ4rT+sYvXgJszrWBxsQ', '/oIARzUh8Ml7tNhZbdiiepV/LoNJie6xf7wkhVBtaERIfZGwiSwGldnCoo3AHXmq', 'A2e1dGVfBCtKx2eC6JcenmhI/aq5HjJ29W+UdHHx/O9fNlHOehB/ntguijmjf9eA', 'oPtC+IUuCHcM8ObQVDqPLoBf650TAGqopXipzFdtHhJJmYe1MVMcS4dkVaebFJVd']\n",
      "100027,0,0,0,10-11-13-18-17\n",
      "oPtC+IUuCHcM8ObQVDqPLoBf650TAGqopXipzFdtHhJJmYe1MVMcS4dkVaebFJVd\n",
      "t/o1K+yDHg+ASdTav5AZ/y5kD/qMsvzel7l073kqTWdmUkCbi3kXprBaHU86cyw3\n"
     ]
    },
    {
     "name": "stderr",
     "output_type": "stream",
     "text": [
      "----------------------------------------\n",
      "Exception occurred during processing of request from ('127.0.0.1', 46336)\n",
      "Traceback (most recent call last):\n",
      "  File \"/usr/lib/python3.9/socketserver.py\", line 316, in _handle_request_noblock\n",
      "    self.process_request(request, client_address)\n",
      "  File \"/usr/lib/python3.9/socketserver.py\", line 347, in process_request\n",
      "    self.finish_request(request, client_address)\n",
      "  File \"/usr/lib/python3.9/socketserver.py\", line 360, in finish_request\n",
      "    self.RequestHandlerClass(request, client_address, self)\n",
      "  File \"/usr/lib/python3.9/socketserver.py\", line 747, in __init__\n",
      "    self.handle()\n",
      "  File \"/usr/lib/python3.9/http/server.py\", line 427, in handle\n",
      "    self.handle_one_request()\n",
      "  File \"/usr/lib/python3.9/http/server.py\", line 415, in handle_one_request\n",
      "    method()\n",
      "  File \"/home/nmc/Arduino/ESW-Project-Team-9/grid_eye_demo/onem2mlib/notifications.py\", line 319, in do_POST\n",
      "    threading.Thread(target=self._handleJSON(post_data), args=(post_data)).start()\n",
      "  File \"/home/nmc/Arduino/ESW-Project-Team-9/grid_eye_demo/onem2mlib/notifications.py\", line 384, in _handleJSON\n",
      "    self._callCallback(resource, sur)\n",
      "  File \"/home/nmc/Arduino/ESW-Project-Team-9/grid_eye_demo/onem2mlib/notifications.py\", line 397, in _callCallback\n",
      "    callback(resource)\n",
      "  File \"/tmp/ipykernel_15647/2413170770.py\", line 4, in callback\n",
      "    add_to_dataset(resource.content)\n",
      "  File \"/tmp/ipykernel_15647/1639706041.py\", line 3, in add_to_dataset\n",
      "    unique_id, feature1, feature2, feature3, time_stamp =  content[0], content[1], content[2], content[3], content[4]\n",
      "IndexError: list index out of range\n",
      "----------------------------------------\n"
     ]
    },
    {
     "name": "stdout",
     "output_type": "stream",
     "text": [
      "/NAx7gR8BOpwIltB4/EUQvke9D3cdiAbTAlNobbO0mcUS/Vv/ckG+4Rg7XHqG5Kd\n"
     ]
    },
    {
     "name": "stderr",
     "output_type": "stream",
     "text": [
      "----------------------------------------\n",
      "Exception occurred during processing of request from ('127.0.0.1', 46354)\n",
      "Traceback (most recent call last):\n",
      "  File \"/usr/lib/python3.9/socketserver.py\", line 316, in _handle_request_noblock\n",
      "    self.process_request(request, client_address)\n",
      "  File \"/usr/lib/python3.9/socketserver.py\", line 347, in process_request\n",
      "    self.finish_request(request, client_address)\n",
      "  File \"/usr/lib/python3.9/socketserver.py\", line 360, in finish_request\n",
      "    self.RequestHandlerClass(request, client_address, self)\n",
      "  File \"/usr/lib/python3.9/socketserver.py\", line 747, in __init__\n",
      "    self.handle()\n",
      "  File \"/usr/lib/python3.9/http/server.py\", line 427, in handle\n",
      "    self.handle_one_request()\n",
      "  File \"/usr/lib/python3.9/http/server.py\", line 415, in handle_one_request\n",
      "    method()\n",
      "  File \"/home/nmc/Arduino/ESW-Project-Team-9/grid_eye_demo/onem2mlib/notifications.py\", line 319, in do_POST\n",
      "    threading.Thread(target=self._handleJSON(post_data), args=(post_data)).start()\n",
      "  File \"/home/nmc/Arduino/ESW-Project-Team-9/grid_eye_demo/onem2mlib/notifications.py\", line 384, in _handleJSON\n",
      "    self._callCallback(resource, sur)\n",
      "  File \"/home/nmc/Arduino/ESW-Project-Team-9/grid_eye_demo/onem2mlib/notifications.py\", line 397, in _callCallback\n",
      "    callback(resource)\n",
      "  File \"/tmp/ipykernel_15647/2413170770.py\", line 4, in callback\n",
      "    add_to_dataset(resource.content)\n",
      "  File \"/tmp/ipykernel_15647/1639706041.py\", line 3, in add_to_dataset\n",
      "    unique_id, feature1, feature2, feature3, time_stamp =  content[0], content[1], content[2], content[3], content[4]\n",
      "IndexError: list index out of range\n",
      "----------------------------------------\n"
     ]
    },
    {
     "name": "stdout",
     "output_type": "stream",
     "text": [
      "ZMMTsLSuYYNG0yb7rAApLrErD+usDRTcn5BIgqrd64uU4qm+6zgFV3NakXKNL5vx\n"
     ]
    },
    {
     "name": "stderr",
     "output_type": "stream",
     "text": [
      "----------------------------------------\n",
      "Exception occurred during processing of request from ('127.0.0.1', 46386)\n",
      "Traceback (most recent call last):\n",
      "  File \"/usr/lib/python3.9/socketserver.py\", line 316, in _handle_request_noblock\n",
      "    self.process_request(request, client_address)\n",
      "  File \"/usr/lib/python3.9/socketserver.py\", line 347, in process_request\n",
      "    self.finish_request(request, client_address)\n",
      "  File \"/usr/lib/python3.9/socketserver.py\", line 360, in finish_request\n",
      "    self.RequestHandlerClass(request, client_address, self)\n",
      "  File \"/usr/lib/python3.9/socketserver.py\", line 747, in __init__\n",
      "    self.handle()\n",
      "  File \"/usr/lib/python3.9/http/server.py\", line 427, in handle\n",
      "    self.handle_one_request()\n",
      "  File \"/usr/lib/python3.9/http/server.py\", line 415, in handle_one_request\n",
      "    method()\n",
      "  File \"/home/nmc/Arduino/ESW-Project-Team-9/grid_eye_demo/onem2mlib/notifications.py\", line 319, in do_POST\n",
      "    threading.Thread(target=self._handleJSON(post_data), args=(post_data)).start()\n",
      "  File \"/home/nmc/Arduino/ESW-Project-Team-9/grid_eye_demo/onem2mlib/notifications.py\", line 384, in _handleJSON\n",
      "    self._callCallback(resource, sur)\n",
      "  File \"/home/nmc/Arduino/ESW-Project-Team-9/grid_eye_demo/onem2mlib/notifications.py\", line 397, in _callCallback\n",
      "    callback(resource)\n",
      "  File \"/tmp/ipykernel_15647/2413170770.py\", line 4, in callback\n",
      "    add_to_dataset(resource.content)\n",
      "  File \"/tmp/ipykernel_15647/1639706041.py\", line 3, in add_to_dataset\n",
      "    unique_id, feature1, feature2, feature3, time_stamp =  content[0], content[1], content[2], content[3], content[4]\n",
      "IndexError: list index out of range\n",
      "----------------------------------------\n"
     ]
    },
    {
     "name": "stdout",
     "output_type": "stream",
     "text": [
      "JbCsaHI5K7Zli5tBowF2+xybHaGIitnLCnaM8Oqy6zruiljoCLlB1I7G3STXs4YG\n"
     ]
    },
    {
     "name": "stderr",
     "output_type": "stream",
     "text": [
      "----------------------------------------\n",
      "Exception occurred during processing of request from ('127.0.0.1', 46410)\n",
      "Traceback (most recent call last):\n",
      "  File \"/usr/lib/python3.9/socketserver.py\", line 316, in _handle_request_noblock\n",
      "    self.process_request(request, client_address)\n",
      "  File \"/usr/lib/python3.9/socketserver.py\", line 347, in process_request\n",
      "    self.finish_request(request, client_address)\n",
      "  File \"/usr/lib/python3.9/socketserver.py\", line 360, in finish_request\n",
      "    self.RequestHandlerClass(request, client_address, self)\n",
      "  File \"/usr/lib/python3.9/socketserver.py\", line 747, in __init__\n",
      "    self.handle()\n",
      "  File \"/usr/lib/python3.9/http/server.py\", line 427, in handle\n",
      "    self.handle_one_request()\n",
      "  File \"/usr/lib/python3.9/http/server.py\", line 415, in handle_one_request\n",
      "    method()\n",
      "  File \"/home/nmc/Arduino/ESW-Project-Team-9/grid_eye_demo/onem2mlib/notifications.py\", line 319, in do_POST\n",
      "    threading.Thread(target=self._handleJSON(post_data), args=(post_data)).start()\n",
      "  File \"/home/nmc/Arduino/ESW-Project-Team-9/grid_eye_demo/onem2mlib/notifications.py\", line 384, in _handleJSON\n",
      "    self._callCallback(resource, sur)\n",
      "  File \"/home/nmc/Arduino/ESW-Project-Team-9/grid_eye_demo/onem2mlib/notifications.py\", line 397, in _callCallback\n",
      "    callback(resource)\n",
      "  File \"/tmp/ipykernel_15647/2413170770.py\", line 4, in callback\n",
      "    add_to_dataset(resource.content)\n",
      "  File \"/tmp/ipykernel_15647/1639706041.py\", line 3, in add_to_dataset\n",
      "    unique_id, feature1, feature2, feature3, time_stamp =  content[0], content[1], content[2], content[3], content[4]\n",
      "IndexError: list index out of range\n",
      "----------------------------------------\n"
     ]
    }
   ],
   "source": [
    "contents = grid_eye.contents()\n",
    "\n",
    "print(len(contents))\n",
    "print(contents)\n",
    "\n",
    "print(grid_eye.oldestContent())\n",
    "print(grid_eye.latestContent())"
   ]
  },
  {
   "cell_type": "code",
   "execution_count": 32,
   "id": "63a70b46",
   "metadata": {},
   "outputs": [
    {
     "data": {
      "text/plain": [
       "'10000003,0,0,0,10-11-13-39-29'"
      ]
     },
     "execution_count": 32,
     "metadata": {},
     "output_type": "execute_result"
    },
    {
     "name": "stdout",
     "output_type": "stream",
     "text": [
      "VLcfoMI5bypGVgN+EyNYl0obseuPFDNoBybqGdQyvLhTYjk/g7fKMUHb/knDlVok\n"
     ]
    },
    {
     "name": "stderr",
     "output_type": "stream",
     "text": [
      "----------------------------------------\n",
      "Exception occurred during processing of request from ('127.0.0.1', 46148)\n",
      "Traceback (most recent call last):\n",
      "  File \"/usr/lib/python3.9/socketserver.py\", line 316, in _handle_request_noblock\n",
      "    self.process_request(request, client_address)\n",
      "  File \"/usr/lib/python3.9/socketserver.py\", line 347, in process_request\n",
      "    self.finish_request(request, client_address)\n",
      "  File \"/usr/lib/python3.9/socketserver.py\", line 360, in finish_request\n",
      "    self.RequestHandlerClass(request, client_address, self)\n",
      "  File \"/usr/lib/python3.9/socketserver.py\", line 747, in __init__\n",
      "    self.handle()\n",
      "  File \"/usr/lib/python3.9/http/server.py\", line 427, in handle\n",
      "    self.handle_one_request()\n",
      "  File \"/usr/lib/python3.9/http/server.py\", line 415, in handle_one_request\n",
      "    method()\n",
      "  File \"/home/nmc/Arduino/ESW-Project-Team-9/grid_eye_demo/onem2mlib/notifications.py\", line 319, in do_POST\n",
      "    threading.Thread(target=self._handleJSON(post_data), args=(post_data)).start()\n",
      "  File \"/home/nmc/Arduino/ESW-Project-Team-9/grid_eye_demo/onem2mlib/notifications.py\", line 384, in _handleJSON\n",
      "    self._callCallback(resource, sur)\n",
      "  File \"/home/nmc/Arduino/ESW-Project-Team-9/grid_eye_demo/onem2mlib/notifications.py\", line 397, in _callCallback\n",
      "    callback(resource)\n",
      "  File \"/tmp/ipykernel_15647/2413170770.py\", line 4, in callback\n",
      "    add_to_dataset(resource.content)\n",
      "  File \"/tmp/ipykernel_15647/1639706041.py\", line 3, in add_to_dataset\n",
      "    unique_id, feature1, feature2, feature3, time_stamp =  content[0], content[1], content[2], content[3], content[4]\n",
      "IndexError: list index out of range\n",
      "----------------------------------------\n"
     ]
    },
    {
     "name": "stdout",
     "output_type": "stream",
     "text": [
      "fQeNZq/cD5BXzXRRIicb9FLe2JBAFrdiSJi1W0wfm5IDuUelxi+jlKonWDSVxQ1M\n"
     ]
    },
    {
     "name": "stderr",
     "output_type": "stream",
     "text": [
      "----------------------------------------\n",
      "Exception occurred during processing of request from ('127.0.0.1', 46196)\n",
      "Traceback (most recent call last):\n",
      "  File \"/usr/lib/python3.9/socketserver.py\", line 316, in _handle_request_noblock\n",
      "    self.process_request(request, client_address)\n",
      "  File \"/usr/lib/python3.9/socketserver.py\", line 347, in process_request\n",
      "    self.finish_request(request, client_address)\n",
      "  File \"/usr/lib/python3.9/socketserver.py\", line 360, in finish_request\n",
      "    self.RequestHandlerClass(request, client_address, self)\n",
      "  File \"/usr/lib/python3.9/socketserver.py\", line 747, in __init__\n",
      "    self.handle()\n",
      "  File \"/usr/lib/python3.9/http/server.py\", line 427, in handle\n",
      "    self.handle_one_request()\n",
      "  File \"/usr/lib/python3.9/http/server.py\", line 415, in handle_one_request\n",
      "    method()\n",
      "  File \"/home/nmc/Arduino/ESW-Project-Team-9/grid_eye_demo/onem2mlib/notifications.py\", line 319, in do_POST\n",
      "    threading.Thread(target=self._handleJSON(post_data), args=(post_data)).start()\n",
      "  File \"/home/nmc/Arduino/ESW-Project-Team-9/grid_eye_demo/onem2mlib/notifications.py\", line 384, in _handleJSON\n",
      "    self._callCallback(resource, sur)\n",
      "  File \"/home/nmc/Arduino/ESW-Project-Team-9/grid_eye_demo/onem2mlib/notifications.py\", line 397, in _callCallback\n",
      "    callback(resource)\n",
      "  File \"/tmp/ipykernel_15647/2413170770.py\", line 4, in callback\n",
      "    add_to_dataset(resource.content)\n",
      "  File \"/tmp/ipykernel_15647/1639706041.py\", line 3, in add_to_dataset\n",
      "    unique_id, feature1, feature2, feature3, time_stamp =  content[0], content[1], content[2], content[3], content[4]\n",
      "IndexError: list index out of range\n",
      "----------------------------------------\n"
     ]
    },
    {
     "name": "stdout",
     "output_type": "stream",
     "text": [
      "thp9HMufnKQi4w5RP4ovcT72vkTevdCs+06qqWrzjkT+PQ4rT+sYvXgJszrWBxsQ\n"
     ]
    },
    {
     "name": "stderr",
     "output_type": "stream",
     "text": [
      "----------------------------------------\n",
      "Exception occurred during processing of request from ('127.0.0.1', 46212)\n",
      "Traceback (most recent call last):\n",
      "  File \"/usr/lib/python3.9/socketserver.py\", line 316, in _handle_request_noblock\n",
      "    self.process_request(request, client_address)\n",
      "  File \"/usr/lib/python3.9/socketserver.py\", line 347, in process_request\n",
      "    self.finish_request(request, client_address)\n",
      "  File \"/usr/lib/python3.9/socketserver.py\", line 360, in finish_request\n",
      "    self.RequestHandlerClass(request, client_address, self)\n",
      "  File \"/usr/lib/python3.9/socketserver.py\", line 747, in __init__\n",
      "    self.handle()\n",
      "  File \"/usr/lib/python3.9/http/server.py\", line 427, in handle\n",
      "    self.handle_one_request()\n",
      "  File \"/usr/lib/python3.9/http/server.py\", line 415, in handle_one_request\n",
      "    method()\n",
      "  File \"/home/nmc/Arduino/ESW-Project-Team-9/grid_eye_demo/onem2mlib/notifications.py\", line 319, in do_POST\n",
      "    threading.Thread(target=self._handleJSON(post_data), args=(post_data)).start()\n",
      "  File \"/home/nmc/Arduino/ESW-Project-Team-9/grid_eye_demo/onem2mlib/notifications.py\", line 384, in _handleJSON\n",
      "    self._callCallback(resource, sur)\n",
      "  File \"/home/nmc/Arduino/ESW-Project-Team-9/grid_eye_demo/onem2mlib/notifications.py\", line 397, in _callCallback\n",
      "    callback(resource)\n",
      "  File \"/tmp/ipykernel_15647/2413170770.py\", line 4, in callback\n",
      "    add_to_dataset(resource.content)\n",
      "  File \"/tmp/ipykernel_15647/1639706041.py\", line 3, in add_to_dataset\n",
      "    unique_id, feature1, feature2, feature3, time_stamp =  content[0], content[1], content[2], content[3], content[4]\n",
      "IndexError: list index out of range\n",
      "----------------------------------------\n"
     ]
    }
   ],
   "source": [
    "decode_AES('IeuAnZdknufs4a5NL09+u0fBi/66Ro7U+4vhyURAE7rZB1V6a2CMmZ3A6XsO8Akm')"
   ]
  }
 ],
 "metadata": {
  "interpreter": {
   "hash": "767d51c1340bd893661ea55ea3124f6de3c7a262a8b4abca0554b478b1e2ff90"
  },
  "kernelspec": {
   "display_name": "Python 3.9.7 64-bit",
   "name": "python3"
  },
  "language_info": {
   "codemirror_mode": {
    "name": "ipython",
    "version": 3
   },
   "file_extension": ".py",
   "mimetype": "text/x-python",
   "name": "python",
   "nbconvert_exporter": "python",
   "pygments_lexer": "ipython3",
   "version": "3.9.7"
  }
 },
 "nbformat": 4,
 "nbformat_minor": 5
}
