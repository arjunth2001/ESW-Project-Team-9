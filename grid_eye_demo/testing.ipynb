{
 "cells": [
  {
   "cell_type": "code",
   "execution_count": 1,
   "id": "c98dcefa-f657-4669-bd17-4a7e99a6fd8f",
   "metadata": {},
   "outputs": [],
   "source": [
    "from onem2mlib import *\n",
    "import onem2mlib.notifications as NOT\n",
    "import onem2mlib.constants as CON"
   ]
  },
  {
   "cell_type": "code",
   "execution_count": 2,
   "id": "a92e68f3-095b-47c6-8aa3-43505fba2ba2",
   "metadata": {},
   "outputs": [],
   "source": [
    "session = Session('http://0.0.0.0:8080/', 'Cae-admin')"
   ]
  },
  {
   "cell_type": "code",
   "execution_count": 3,
   "id": "b917ee7a-5f7a-424e-b1bc-12fc28cecbc3",
   "metadata": {},
   "outputs": [],
   "source": [
    "cse = CSEBase(session, 'server')"
   ]
  },
  {
   "cell_type": "code",
   "execution_count": 4,
   "id": "3cee0b50-f4e0-41f6-9546-c5a11cd5841e",
   "metadata": {},
   "outputs": [],
   "source": [
    "ae = AE(cse, resourceName='arjun')"
   ]
  },
  {
   "cell_type": "code",
   "execution_count": 5,
   "id": "04abe7eb-f7d5-4a03-9778-35338f456c69",
   "metadata": {},
   "outputs": [],
   "source": [
    "pir = ae.containers()[0]"
   ]
  },
  {
   "cell_type": "code",
   "execution_count": 6,
   "id": "5733d4b6-8cab-4d4b-86b8-65cb92387274",
   "metadata": {},
   "outputs": [],
   "source": [
    "latest = pir.latestContent()"
   ]
  },
  {
   "cell_type": "code",
   "execution_count": 7,
   "id": "d645395c-57ff-48ee-b84f-c02848b6d542",
   "metadata": {},
   "outputs": [
    {
     "data": {
      "text/plain": [
       "'0'"
      ]
     },
     "execution_count": 7,
     "metadata": {},
     "output_type": "execute_result"
    }
   ],
   "source": [
    "latest"
   ]
  },
  {
   "cell_type": "code",
   "execution_count": 8,
   "id": "080d058f-3712-42f2-9594-236ae0b67f3e",
   "metadata": {},
   "outputs": [],
   "source": [
    "def callback(resource):\n",
    "\tif resource.type == CON.Type_ContentInstance:\n",
    "\t\tprint(resource.content)\n",
    "\telse:\n",
    "\t\tprint(resource)"
   ]
  },
  {
   "cell_type": "code",
   "execution_count": 9,
   "id": "adf81192-1fee-4c7f-adc6-0fd734307833",
   "metadata": {},
   "outputs": [
    {
     "name": "stdout",
     "output_type": "stream",
     "text": [
      "Setting up notifications...\n"
     ]
    },
    {
     "data": {
      "text/plain": [
       "True"
      ]
     },
     "execution_count": 9,
     "metadata": {},
     "output_type": "execute_result"
    }
   ],
   "source": [
    "print('Setting up notifications...')\n",
    "NOT.setupNotifications(callback)"
   ]
  },
  {
   "cell_type": "code",
   "execution_count": 10,
   "id": "9b6cf392-0ceb-4991-ae93-e5623bd1f774",
   "metadata": {},
   "outputs": [
    {
     "data": {
      "text/plain": [
       "True"
      ]
     },
     "execution_count": 10,
     "metadata": {},
     "output_type": "execute_result"
    }
   ],
   "source": [
    "ae.subscribe()"
   ]
  },
  {
   "cell_type": "code",
   "execution_count": 11,
   "id": "000fd47f-d617-4b58-afbc-da0e1d23c6d7",
   "metadata": {},
   "outputs": [
    {
     "data": {
      "text/plain": [
       "True"
      ]
     },
     "execution_count": 11,
     "metadata": {},
     "output_type": "execute_result"
    },
    {
     "name": "stdout",
     "output_type": "stream",
     "text": [
      "1\n",
      "1\n",
      "1\n",
      "1\n",
      "1\n",
      "1\n",
      "0\n",
      "0\n",
      "0\n",
      "0\n",
      "1\n",
      "1\n",
      "1\n",
      "1\n",
      "1\n",
      "1\n",
      "1\n",
      "0\n",
      "0\n",
      "0\n",
      "0\n",
      "0\n",
      "0\n",
      "0\n",
      "0\n",
      "1\n",
      "1\n",
      "1\n",
      "1\n",
      "1\n",
      "1\n",
      "1\n",
      "0\n",
      "1\n",
      "1\n",
      "1\n",
      "1\n",
      "1\n",
      "1\n",
      "1\n",
      "1\n",
      "0\n",
      "0\n",
      "0\n",
      "0\n",
      "0\n",
      "0\n",
      "0\n",
      "0\n",
      "0\n",
      "0\n",
      "1\n",
      "1\n",
      "1\n",
      "1\n",
      "1\n",
      "1\n",
      "1\n",
      "0\n",
      "0\n",
      "1\n",
      "1\n",
      "1\n",
      "1\n",
      "1\n",
      "1\n",
      "1\n",
      "0\n",
      "0\n",
      "0\n",
      "0\n",
      "1\n",
      "1\n",
      "1\n",
      "1\n",
      "1\n",
      "1\n",
      "1\n",
      "0\n",
      "0\n",
      "0\n",
      "0\n",
      "1\n",
      "1\n",
      "1\n",
      "1\n",
      "1\n",
      "1\n",
      "1\n",
      "0\n",
      "0\n",
      "1\n",
      "1\n",
      "1\n",
      "1\n",
      "1\n",
      "1\n",
      "1\n",
      "0\n",
      "0\n",
      "0\n",
      "0\n",
      "0\n",
      "0\n",
      "0\n",
      "1\n",
      "1\n",
      "1\n",
      "1\n",
      "1\n",
      "1\n",
      "1\n",
      "0\n",
      "0\n",
      "1\n",
      "1\n",
      "1\n",
      "1\n",
      "1\n",
      "1\n",
      "1\n",
      "0\n",
      "1\n",
      "1\n",
      "1\n",
      "1\n",
      "1\n",
      "1\n",
      "1\n",
      "0\n",
      "0\n",
      "0\n",
      "0\n",
      "0\n",
      "0\n",
      "0\n",
      "0\n",
      "0\n",
      "0\n",
      "1\n",
      "1\n",
      "1\n",
      "1\n",
      "1\n",
      "1\n",
      "1\n",
      "0\n",
      "0\n",
      "0\n",
      "0\n",
      "0\n",
      "1\n",
      "1\n",
      "1\n",
      "1\n",
      "1\n",
      "1\n",
      "1\n",
      "0\n",
      "0\n"
     ]
    }
   ],
   "source": [
    "pir.subscribe()"
   ]
  },
  {
   "cell_type": "code",
   "execution_count": null,
   "id": "5ed71dbf-1b0f-4b1e-9d5a-b04522507bef",
   "metadata": {},
   "outputs": [],
   "source": []
  }
 ],
 "metadata": {
  "interpreter": {
   "hash": "767d51c1340bd893661ea55ea3124f6de3c7a262a8b4abca0554b478b1e2ff90"
  },
  "kernelspec": {
   "display_name": "Python 3.9.7 64-bit",
   "name": "python3"
  },
  "language_info": {
   "codemirror_mode": {
    "name": "ipython",
    "version": 3
   },
   "file_extension": ".py",
   "mimetype": "text/x-python",
   "name": "python",
   "nbconvert_exporter": "python",
   "pygments_lexer": "ipython3",
   "version": "3.9.7"
  }
 },
 "nbformat": 4,
 "nbformat_minor": 5
}
