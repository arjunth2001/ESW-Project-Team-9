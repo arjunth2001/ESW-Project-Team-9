{
 "cells": [
  {
   "cell_type": "code",
   "execution_count": null,
   "id": "9596785d-04dc-4038-8453-9047d0abfdb8",
   "metadata": {},
   "outputs": [],
   "source": [
    "import atexit, threading, json\n",
    "from http.server import BaseHTTPRequestHandler, HTTPServer\n",
    "import urllib.parse\n",
    "import onem2mlib\n",
    "import onem2mlib.exceptions as EXC\n",
    "import onem2mlib.constants as CON\n",
    "import onem2mlib.internal as INT\n",
    "import requests\n",
    "import uuid"
   ]
  },
  {
   "cell_type": "code",
   "execution_count": null,
   "id": "5ca8c0d5",
   "metadata": {},
   "outputs": [],
   "source": [
    "# Encryption\n",
    "import re\n",
    "import base64\n",
    "from base64 import b64decode\n",
    "from Crypto.Cipher import AES\n",
    "from Crypto.Util.Padding import pad, unpad\n",
    "import hmac\n",
    "import hashlib"
   ]
  },
  {
   "cell_type": "code",
   "execution_count": null,
   "id": "f0bd6214",
   "metadata": {},
   "outputs": [],
   "source": [
    "def hash_hmac256(message):\n",
    "    API_SECRET = \"ESWTEAM9\"\n",
    "\n",
    "    signature = hmac.new(\n",
    "            bytes(API_SECRET , 'ascii'),\n",
    "            msg = bytes(message , 'ascii'),\n",
    "            digestmod = hashlib.sha256\n",
    "        ).hexdigest()\n",
    "    return signature\n",
    "\n",
    "print(hash_hmac256(\"Iaa0aBgnZEmfdBEr21orLHbWhd4ySNJcVa49NvuOf/3LWefa4Qr/FInjYZWlOuR7\"))"
   ]
  },
  {
   "cell_type": "code",
   "execution_count": null,
   "id": "43a74fb4",
   "metadata": {},
   "outputs": [],
   "source": [
    "def decode_base64(data, altchars=b'+/'):\n",
    "    data = re.sub(rb'[^a-zA-Z0-9%s]+' % altchars, b'', data)\n",
    "    missing_padding = len(data) % 4\n",
    "    if missing_padding:\n",
    "        data += b'='* (4 - missing_padding)\n",
    "    return base64.b64decode(data, altchars)\n",
    "\n",
    "def decode_AES(ciphertext):\n",
    "    key = \"2B7E151628AED2A6ABF7158809CF4F3C\"\n",
    "    iv = \"AAAAAAAAAAAAAAAAAAAAAA==\"\n",
    "\n",
    "    key = bytearray.fromhex(key)\n",
    "    iv = b64decode(iv).hex()\n",
    "    iv = bytearray.fromhex(iv)\n",
    "    ciphertext = b64decode(ciphertext)\n",
    "\n",
    "    cipher = AES.new(key, AES.MODE_CBC, iv)\n",
    "    decrypted = cipher.decrypt(ciphertext)\n",
    "    decryptedUnpad = unpad(decrypted, AES.block_size)\n",
    "    return decode_base64(decryptedUnpad).decode(\"utf-8\")"
   ]
  },
  {
   "cell_type": "code",
   "execution_count": null,
   "id": "4b8e1155",
   "metadata": {},
   "outputs": [],
   "source": [
    "decode_AES('IeuAnZdknufs4a5NL09+u0fBi/66Ro7U+4vhyURAE7rZB1V6a2CMmZ3A6XsO8Akm')"
   ]
  },
  {
   "cell_type": "code",
   "execution_count": null,
   "id": "dec36caf",
   "metadata": {},
   "outputs": [],
   "source": [
    "def print_content(content):\n",
    "    content = content.split(',')\n",
    "    unique_id, feature1, feature2, feature3, time_stamp =  content[0], content[1], content[2], content[3], content[4]\n",
    "\n",
    "    # df = pd.read_csv('dataset.csv')\n",
    "    # display(df)\n",
    "    data_point = {\n",
    "        \"unique_id\": unique_id,\n",
    "        \"feature_1\": feature1,\n",
    "        \"feature_2\": feature2,\n",
    "        \"feature_3\": feature3,\n",
    "        \"time_stamp\": time_stamp\n",
    "    }\n",
    "    print(data_point)"
   ]
  },
  {
   "cell_type": "code",
   "execution_count": null,
   "id": "000ceb90",
   "metadata": {},
   "outputs": [],
   "source": []
  },
  {
   "cell_type": "code",
   "execution_count": null,
   "id": "f6b8a05e",
   "metadata": {},
   "outputs": [],
   "source": [
    "hash_hmac256(\"FnhNls08YIWZKy9Z0P5WkV45ylYMnixKX+73VWpHnPdbHzCQjwaV88Ti0Wuo/WH1\")"
   ]
  },
  {
   "cell_type": "code",
   "execution_count": null,
   "id": "52fc5b84",
   "metadata": {},
   "outputs": [],
   "source": [
    "def verify_hash(to_decode, to_hash):\n",
    "    to_decode = decode_AES(to_decode)\n",
    "    calc_hash = hash_hmac256(to_decode)\n",
    "    print(\"-----------\")\n",
    "    print(to_decode, to_hash)\n",
    "    print(calc_hash)\n",
    "    print(\"---------------\")\n",
    "    if calc_hash == to_hash:\n",
    "        print(\"Hash verified. Successful transfer.\")\n",
    "    else:\n",
    "        print(\"Hash doesn't match. Something fishy.\")"
   ]
  },
  {
   "cell_type": "code",
   "execution_count": null,
   "id": "86a04c38-3e6e-4a8a-8e32-afcb18a4de8c",
   "metadata": {},
   "outputs": [],
   "source": [
    "_server = None\n",
    "_thread = None\n",
    "_port = 1401\n",
    "\n",
    "\n",
    "def call_back(res):\n",
    "    print(res.content)\n",
    "    tup = res.content.split(',')\n",
    "    to_decode, to_hash = tup[0], tup[1]\n",
    "    verify_hash(to_decode, to_hash)\n",
    "    dec_content = decode_AES(to_decode)\n",
    "    print(dec_content)\n",
    "    print_content(dec_content)\n",
    "\n",
    "# Start the notification server in a background threa\n",
    "def _startNotificationServer():\n",
    "\tglobal _server, _thread\n",
    "\tif _thread:\n",
    "\t\treturn\n",
    "\t# Start processing requests in a separate thread.\n",
    "\t# Listen on any interface/IP address.\n",
    "\t_server = HTTPNotificationServer(('', _port), HTTPNotificationHandler)\n",
    "\t_thread = threading.Thread(target=_server.run)\n",
    "\t_thread.start()\n",
    "\n",
    "# Stop the thread/notification server\n",
    "@atexit.register\n",
    "def _stopNotificationServer():\n",
    "\tglobal _server, _thread\n",
    "\tif not _server or not _thread:\n",
    "\t\treturn\n",
    "\t# Shutdown server\n",
    "\t_server.shutdown()\n",
    "\t_thread.join()\n",
    "\t_server = None\n",
    "\t_thread = None\n",
    "\n",
    "# This class implements the notification server that runs in the background.\n",
    "class HTTPNotificationServer(HTTPServer):\n",
    "\tdef run(self):\n",
    "\t\ttry:\n",
    "\t\t\tself.serve_forever()\n",
    "\t\tfinally:\n",
    "\t\t\t# Clean-up server (close socket, etc.)\n",
    "\t\t\tself.server_close()\n",
    "\n",
    "# This class implements the handler that reseives the requests\n",
    "class HTTPNotificationHandler(BaseHTTPRequestHandler):\n",
    "\t# Handle incoming notifications (POST requests)\n",
    "\tdef do_POST(self):\n",
    "\t\t\t# Construct return header\n",
    "\t\t\tself.send_response(200)\n",
    "\t\t\tself.send_header('X-M2M-RSC', '2000')\n",
    "\t\t\tself.end_headers()\n",
    "\n",
    "\t\t\t# Get headers and content data\n",
    "\t\t\tlength = int(self.headers['Content-Length'])\n",
    "\t\t\tcontentType = self.headers['Content-Type']\n",
    "\t\t\tpost_data = self.rfile.read(length)\n",
    "\t\t\t#print(post_data)\n",
    "\t\t\tthreading.Thread(target=self._handleJSON(post_data), args=(post_data)).start()\n",
    "\t\t\t\n",
    "\n",
    "\t# Catch and ignore all log messages\n",
    "\tdef log_message(self, format, *args):\n",
    "\t\treturn\n",
    "\t\n",
    "\n",
    "\t# Handle JSON notifications \n",
    "\tdef _handleJSON(self, data):\n",
    "\t\tjsn =  json.loads(data.decode('utf-8'))\n",
    "\t\t#print(jsn)\n",
    "\t\t# check verification request\n",
    "\t\tvrq = INT.getALLSubElementsJSON(jsn, 'vrq')\n",
    "\t\tif len(vrq) == 0:\t\t\t\t\t\t\t\t\t\t\n",
    "\t\t\tvrq = INT.getALLSubElementsJSON(jsn, 'm2m:vrq')\n",
    "\t\tif len(vrq) > 0 and vrq[0] == True:\n",
    "\t\t\treturn \t# do nothing\n",
    "\n",
    "\t\t# get the sur first\n",
    "\t\tsur = INT.getALLSubElementsJSON(jsn, 'sur')\n",
    "\t\tif len(sur) == 0:\t\t\t\t\t\t\t\t\t\t\n",
    "\t\t\tsur = INT.getALLSubElementsJSON(jsn, 'm2m:sur')\n",
    "\t\tif len(sur) > 0:\n",
    "\t\t\tsur = sur[0]\n",
    "\t\telse:\n",
    "\t\t\treturn \t# must have a subscription ID\n",
    "\n",
    "\t\t# get resource\n",
    "\t\trep = INT.getALLSubElementsJSON(jsn, 'rep')\n",
    "\t\tif len(rep) == 0:\t\t\t\t\t\t\t\n",
    "\t\t\trep = INT.getALLSubElementsJSON(jsn, 'm2m:rep')\n",
    "\t\tif len(rep) > 0:\n",
    "\t\t\tjsn = rep[0]\n",
    "\t\t\ttype = INT.getALLSubElementsJSON(jsn, 'ty')\n",
    "\t\t\tif type and len(type) > 0:\n",
    "\t\t\t\tresource = INT._newResourceFromType(type[0], None)\n",
    "\t\t\t\tresource._parseJSON(jsn)\n",
    "\t\t\t\tcall_back(resource)\n",
    "###############################################################################"
   ]
  },
  {
   "cell_type": "code",
   "execution_count": null,
   "id": "045ad0c9-4a2e-4c25-8f1b-f92ffbcd8ab6",
   "metadata": {},
   "outputs": [],
   "source": [
    "_startNotificationServer()"
   ]
  },
  {
   "cell_type": "code",
   "execution_count": null,
   "id": "85201c81-9ac5-4581-96ec-c719da798872",
   "metadata": {},
   "outputs": [],
   "source": [
    "def subscribe():\n",
    "    global _port\n",
    "    headers = {\n",
    "        'X-M2M-Origin': 'rTI9uxe@NN:7rn5sOIaYf',\n",
    "        'Content-type': 'application/json;ty=23'\n",
    "     }\n",
    "    \n",
    "    body = {\n",
    "        \"m2m:sub\":{\n",
    "            \"rn\":str(uuid.uuid4()),\n",
    "            \"nu\":[ f\"http://10.11.0.194:{_port}/\" ],\n",
    "            \"nct\":1\n",
    "        }\n",
    "    }\n",
    "    try:\n",
    "        response = requests.post(\"http://esw-onem2m.iiit.ac.in:443/~/in-cse/in-name/Team-9/testing/\", json=body, headers=headers)\n",
    "    except TypeError:\n",
    "        response = requests.post(\"http://esw-onem2m.iiit.ac.in:443/~/in-cse/in-name/Team-9/testing/\", data=json.dumps(body), headers=headers)\n",
    "    print('Return code : {}'.format(response.status_code))\n",
    "    print('Return Content : {}'.format(response.text))\n",
    "    return\n",
    "    "
   ]
  },
  {
   "cell_type": "code",
   "execution_count": null,
   "id": "565fc84e-e08c-4ab6-9d8d-2b776ea2d22b",
   "metadata": {},
   "outputs": [],
   "source": [
    "subscribe()"
   ]
  },
  {
   "cell_type": "code",
   "execution_count": null,
   "id": "cd770891-4cc2-46b8-8f57-89252bc22af7",
   "metadata": {},
   "outputs": [],
   "source": [
    "_stopNotificationServer()"
   ]
  },
  {
   "cell_type": "code",
   "execution_count": null,
   "id": "5a81c306-b9ea-4eee-ba2e-7d87758f6ec2",
   "metadata": {},
   "outputs": [],
   "source": [
    "def get_data():\n",
    "    headers = {\n",
    "        'X-M2M-Origin': 'rTI9uxe@NN:7rn5sOIaYf',\n",
    "        'Content-type': 'application/json'\n",
    "     }\n",
    "\n",
    "    response = requests.get(\"http://esw-onem2m.iiit.ac.in:443/~/in-cse/in-name/Team-9/testing?rcn=4\", headers=headers)\n",
    "    print('Return code : {}'.format(response.status_code))\n",
    "    print('Return Content : {}'.format(response.text))\n",
    "    _resp = json.loads(response.text)\n",
    "    return response.status_code , _resp"
   ]
  },
  {
   "cell_type": "code",
   "execution_count": null,
   "id": "abe40202-b5ac-4573-b7b3-4d56c60a7293",
   "metadata": {},
   "outputs": [],
   "source": [
    "i , j = get_data()"
   ]
  },
  {
   "cell_type": "code",
   "execution_count": null,
   "id": "ca50d076-f1e7-4325-a0bd-b151203182f9",
   "metadata": {},
   "outputs": [],
   "source": []
  }
 ],
 "metadata": {
  "kernelspec": {
   "display_name": "Python 3 (ipykernel)",
   "language": "python",
   "name": "python3"
  },
  "language_info": {
   "codemirror_mode": {
    "name": "ipython",
    "version": 3
   },
   "file_extension": ".py",
   "mimetype": "text/x-python",
   "name": "python",
   "nbconvert_exporter": "python",
   "pygments_lexer": "ipython3",
   "version": "3.9.7"
  }
 },
 "nbformat": 4,
 "nbformat_minor": 5
}
