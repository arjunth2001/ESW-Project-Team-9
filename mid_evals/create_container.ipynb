{
 "cells": [
  {
   "cell_type": "code",
   "execution_count": 1,
   "id": "5cc6d35e-f454-4dd5-a281-9859bb8ddcbd",
   "metadata": {},
   "outputs": [],
   "source": [
    "from onem2mlib import *\n",
    "import onem2mlib.notifications as NOT\n",
    "import onem2mlib.constants as CON"
   ]
  },
  {
   "cell_type": "code",
   "execution_count": 2,
   "id": "c075d480-9843-4c0c-b0e2-e4226ab8b474",
   "metadata": {},
   "outputs": [],
   "source": [
    "session = Session('http://esw-onem2m.iiit.ac.in:443', 'rTI9uxe@NN:7rn5sOIaYf')"
   ]
  },
  {
   "cell_type": "code",
   "execution_count": 3,
   "id": "711b04bb-3eb0-4c66-9556-5a739b72d1a3",
   "metadata": {},
   "outputs": [],
   "source": [
    "cse = CSEBase(session, 'in-cse', resourceName='in-name', instantly=False)"
   ]
  },
  {
   "cell_type": "code",
   "execution_count": 4,
   "id": "7640bd92-42b4-49e0-9fc6-87928531eecf",
   "metadata": {},
   "outputs": [],
   "source": [
    "ae = AE(cse, resourceName='Team-9')"
   ]
  },
  {
   "cell_type": "code",
   "execution_count": 5,
   "id": "5b382c6a-524e-45a8-a4c5-242a4a674eeb",
   "metadata": {},
   "outputs": [],
   "source": [
    "container = Container(ae, resourceName='testing',maxNrOfInstances=25)"
   ]
  },
  {
   "cell_type": "code",
   "execution_count": 6,
   "id": "4c1c2514-b731-4c46-9e44-08711550563a",
   "metadata": {},
   "outputs": [
    {
     "data": {
      "text/plain": [
       "False"
      ]
     },
     "execution_count": 6,
     "metadata": {},
     "output_type": "execute_result"
    }
   ],
   "source": [
    "container.updateInCSE()"
   ]
  },
  {
   "cell_type": "code",
   "execution_count": null,
   "id": "bce95d77-55da-4860-b770-5fbb4bd45b9c",
   "metadata": {},
   "outputs": [],
   "source": []
  }
 ],
 "metadata": {
  "kernelspec": {
   "display_name": "Python 3 (ipykernel)",
   "language": "python",
   "name": "python3"
  },
  "language_info": {
   "codemirror_mode": {
    "name": "ipython",
    "version": 3
   },
   "file_extension": ".py",
   "mimetype": "text/x-python",
   "name": "python",
   "nbconvert_exporter": "python",
   "pygments_lexer": "ipython3",
   "version": "3.9.7"
  }
 },
 "nbformat": 4,
 "nbformat_minor": 5
}
